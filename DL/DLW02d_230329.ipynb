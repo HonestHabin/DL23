{
  "nbformat": 4,
  "nbformat_minor": 0,
  "metadata": {
    "colab": {
      "provenance": [],
      "include_colab_link": true
    },
    "kernelspec": {
      "name": "python3",
      "display_name": "Python 3"
    },
    "language_info": {
      "name": "python"
    }
  },
  "cells": [
    {
      "cell_type": "markdown",
      "metadata": {
        "id": "view-in-github",
        "colab_type": "text"
      },
      "source": [
        "<a href=\"https://colab.research.google.com/github/HonestHabin/DL23/blob/main/DL/DLW02d_230329.ipynb\" target=\"_parent\"><img src=\"https://colab.research.google.com/assets/colab-badge.svg\" alt=\"Open In Colab\"/></a>"
      ]
    },
    {
      "cell_type": "markdown",
      "source": [
        "---\n",
        "# 📗 Topic [2]: Coding basic #2\n",
        "---\n",
        "Keywords:\n",
        "\n",
        "+ variables\n",
        "+ **operators**\n",
        "+ **data types: list and dictionary**\n",
        "\n",
        "📝 \n",
        "(-, + 둘다 가능)"
      ],
      "metadata": {
        "id": "k4A5_MYHpcNQ"
      }
    },
    {
      "cell_type": "markdown",
      "source": [
        "Your github IDs [here](https://docs.google.com/spreadsheets/d/17SX51lCqOdtvC7cAGoX5tP9fKwVdGY5sRzMg2pXh9uk/edit#gid=0) - revised 0327"
      ],
      "metadata": {
        "id": "mUVgzk50XMkt"
      }
    },
    {
      "cell_type": "code",
      "source": [],
      "metadata": {
        "id": "qa8OfB23Ht45"
      },
      "execution_count": null,
      "outputs": []
    },
    {
      "cell_type": "markdown",
      "source": [
        "## [1] Variables (변수)"
      ],
      "metadata": {
        "id": "93gQaEo1RX63"
      }
    },
    {
      "cell_type": "markdown",
      "source": [
        "+ **A variable** is a named storage location that holds a value.\n",
        "+ Variables can be used **to store values** such as numbers, strings, lists, or other data types. \n",
        "+ The value of a variable can change throughout the execution of a program. \n",
        "+ To declare a variable in Python, you need to assign a value to it using the **equal (=) sign.**"
      ],
      "metadata": {
        "id": "jJT4hD1teuJr"
      }
    },
    {
      "cell_type": "code",
      "source": [
        "x = 10\n",
        "y = \"Hello, class!\"\n",
        "z = [1, 2, 3]"
      ],
      "metadata": {
        "id": "Xes87bY2X45M"
      },
      "execution_count": 1,
      "outputs": []
    },
    {
      "cell_type": "markdown",
      "source": [
        "↗️ In the above example, 'x' is assigned the value of 10, 'y' is assigned the value of \"Hello, World!\", and 'z' is assigned the value of [1, 2, 3]."
      ],
      "metadata": {
        "id": "ulw6QsP5ZiKp"
      }
    },
    {
      "cell_type": "code",
      "source": [
        "# We can assign a link or a function\n",
        "import pandas as pd\n",
        "url = \"https://github.com/MK316/Spring2023/raw/main/data/att_sample.csv\"\n",
        "data = pd.read_csv(url)\n",
        "data"
      ],
      "metadata": {
        "id": "_7bvpJt2aQmg",
        "outputId": "dbd7d926-a22b-4a10-c6ba-a2dbcd1fee79",
        "colab": {
          "base_uri": "https://localhost:8080/",
          "height": 488
        }
      },
      "execution_count": 2,
      "outputs": [
        {
          "output_type": "execute_result",
          "data": {
            "text/plain": [
              "      Names\n",
              "0      Mary\n",
              "1      John\n",
              "2       Tim\n",
              "3       Bob\n",
              "4     Sarah\n",
              "5      Kate\n",
              "6     Marie\n",
              "7   Johnson\n",
              "8      Mike\n",
              "9     Harry\n",
              "10      Jin\n",
              "11      Sam\n",
              "12     Paul\n",
              "13  Natalie"
            ],
            "text/html": [
              "\n",
              "  <div id=\"df-ca51768f-1374-44d9-b233-f56bc9087d62\">\n",
              "    <div class=\"colab-df-container\">\n",
              "      <div>\n",
              "<style scoped>\n",
              "    .dataframe tbody tr th:only-of-type {\n",
              "        vertical-align: middle;\n",
              "    }\n",
              "\n",
              "    .dataframe tbody tr th {\n",
              "        vertical-align: top;\n",
              "    }\n",
              "\n",
              "    .dataframe thead th {\n",
              "        text-align: right;\n",
              "    }\n",
              "</style>\n",
              "<table border=\"1\" class=\"dataframe\">\n",
              "  <thead>\n",
              "    <tr style=\"text-align: right;\">\n",
              "      <th></th>\n",
              "      <th>Names</th>\n",
              "    </tr>\n",
              "  </thead>\n",
              "  <tbody>\n",
              "    <tr>\n",
              "      <th>0</th>\n",
              "      <td>Mary</td>\n",
              "    </tr>\n",
              "    <tr>\n",
              "      <th>1</th>\n",
              "      <td>John</td>\n",
              "    </tr>\n",
              "    <tr>\n",
              "      <th>2</th>\n",
              "      <td>Tim</td>\n",
              "    </tr>\n",
              "    <tr>\n",
              "      <th>3</th>\n",
              "      <td>Bob</td>\n",
              "    </tr>\n",
              "    <tr>\n",
              "      <th>4</th>\n",
              "      <td>Sarah</td>\n",
              "    </tr>\n",
              "    <tr>\n",
              "      <th>5</th>\n",
              "      <td>Kate</td>\n",
              "    </tr>\n",
              "    <tr>\n",
              "      <th>6</th>\n",
              "      <td>Marie</td>\n",
              "    </tr>\n",
              "    <tr>\n",
              "      <th>7</th>\n",
              "      <td>Johnson</td>\n",
              "    </tr>\n",
              "    <tr>\n",
              "      <th>8</th>\n",
              "      <td>Mike</td>\n",
              "    </tr>\n",
              "    <tr>\n",
              "      <th>9</th>\n",
              "      <td>Harry</td>\n",
              "    </tr>\n",
              "    <tr>\n",
              "      <th>10</th>\n",
              "      <td>Jin</td>\n",
              "    </tr>\n",
              "    <tr>\n",
              "      <th>11</th>\n",
              "      <td>Sam</td>\n",
              "    </tr>\n",
              "    <tr>\n",
              "      <th>12</th>\n",
              "      <td>Paul</td>\n",
              "    </tr>\n",
              "    <tr>\n",
              "      <th>13</th>\n",
              "      <td>Natalie</td>\n",
              "    </tr>\n",
              "  </tbody>\n",
              "</table>\n",
              "</div>\n",
              "      <button class=\"colab-df-convert\" onclick=\"convertToInteractive('df-ca51768f-1374-44d9-b233-f56bc9087d62')\"\n",
              "              title=\"Convert this dataframe to an interactive table.\"\n",
              "              style=\"display:none;\">\n",
              "        \n",
              "  <svg xmlns=\"http://www.w3.org/2000/svg\" height=\"24px\"viewBox=\"0 0 24 24\"\n",
              "       width=\"24px\">\n",
              "    <path d=\"M0 0h24v24H0V0z\" fill=\"none\"/>\n",
              "    <path d=\"M18.56 5.44l.94 2.06.94-2.06 2.06-.94-2.06-.94-.94-2.06-.94 2.06-2.06.94zm-11 1L8.5 8.5l.94-2.06 2.06-.94-2.06-.94L8.5 2.5l-.94 2.06-2.06.94zm10 10l.94 2.06.94-2.06 2.06-.94-2.06-.94-.94-2.06-.94 2.06-2.06.94z\"/><path d=\"M17.41 7.96l-1.37-1.37c-.4-.4-.92-.59-1.43-.59-.52 0-1.04.2-1.43.59L10.3 9.45l-7.72 7.72c-.78.78-.78 2.05 0 2.83L4 21.41c.39.39.9.59 1.41.59.51 0 1.02-.2 1.41-.59l7.78-7.78 2.81-2.81c.8-.78.8-2.07 0-2.86zM5.41 20L4 18.59l7.72-7.72 1.47 1.35L5.41 20z\"/>\n",
              "  </svg>\n",
              "      </button>\n",
              "      \n",
              "  <style>\n",
              "    .colab-df-container {\n",
              "      display:flex;\n",
              "      flex-wrap:wrap;\n",
              "      gap: 12px;\n",
              "    }\n",
              "\n",
              "    .colab-df-convert {\n",
              "      background-color: #E8F0FE;\n",
              "      border: none;\n",
              "      border-radius: 50%;\n",
              "      cursor: pointer;\n",
              "      display: none;\n",
              "      fill: #1967D2;\n",
              "      height: 32px;\n",
              "      padding: 0 0 0 0;\n",
              "      width: 32px;\n",
              "    }\n",
              "\n",
              "    .colab-df-convert:hover {\n",
              "      background-color: #E2EBFA;\n",
              "      box-shadow: 0px 1px 2px rgba(60, 64, 67, 0.3), 0px 1px 3px 1px rgba(60, 64, 67, 0.15);\n",
              "      fill: #174EA6;\n",
              "    }\n",
              "\n",
              "    [theme=dark] .colab-df-convert {\n",
              "      background-color: #3B4455;\n",
              "      fill: #D2E3FC;\n",
              "    }\n",
              "\n",
              "    [theme=dark] .colab-df-convert:hover {\n",
              "      background-color: #434B5C;\n",
              "      box-shadow: 0px 1px 3px 1px rgba(0, 0, 0, 0.15);\n",
              "      filter: drop-shadow(0px 1px 2px rgba(0, 0, 0, 0.3));\n",
              "      fill: #FFFFFF;\n",
              "    }\n",
              "  </style>\n",
              "\n",
              "      <script>\n",
              "        const buttonEl =\n",
              "          document.querySelector('#df-ca51768f-1374-44d9-b233-f56bc9087d62 button.colab-df-convert');\n",
              "        buttonEl.style.display =\n",
              "          google.colab.kernel.accessAllowed ? 'block' : 'none';\n",
              "\n",
              "        async function convertToInteractive(key) {\n",
              "          const element = document.querySelector('#df-ca51768f-1374-44d9-b233-f56bc9087d62');\n",
              "          const dataTable =\n",
              "            await google.colab.kernel.invokeFunction('convertToInteractive',\n",
              "                                                     [key], {});\n",
              "          if (!dataTable) return;\n",
              "\n",
              "          const docLinkHtml = 'Like what you see? Visit the ' +\n",
              "            '<a target=\"_blank\" href=https://colab.research.google.com/notebooks/data_table.ipynb>data table notebook</a>'\n",
              "            + ' to learn more about interactive tables.';\n",
              "          element.innerHTML = '';\n",
              "          dataTable['output_type'] = 'display_data';\n",
              "          await google.colab.output.renderOutput(dataTable, element);\n",
              "          const docLink = document.createElement('div');\n",
              "          docLink.innerHTML = docLinkHtml;\n",
              "          element.appendChild(docLink);\n",
              "        }\n",
              "      </script>\n",
              "    </div>\n",
              "  </div>\n",
              "  "
            ]
          },
          "metadata": {},
          "execution_count": 2
        }
      ]
    },
    {
      "cell_type": "markdown",
      "source": [
        "📝 url, data 변수의 이름 (마음대로 지정가능능)"
      ],
      "metadata": {
        "id": "Tx7jMUq2IMTp"
      }
    },
    {
      "cell_type": "markdown",
      "source": [
        "## Commenting '#'\n",
        "\n",
        "- In Python, the # symbol is used to indicate comment lines. A comment is a line of text in a code that is ignored by the Python interpreter and is used to provide explanations or notes for the reader of the code.\n",
        "\n",
        "## Uncommenting shortcut: \n",
        "* \"Ctrl + /\" (Place the cursor on the code line and press the Control + / key.)"
      ],
      "metadata": {
        "id": "xZv9R8I8ZWvt"
      }
    },
    {
      "cell_type": "markdown",
      "source": [
        "📝#이 많아질 수록 글자가 작아짐."
      ],
      "metadata": {
        "id": "7AePuOInIapp"
      }
    },
    {
      "cell_type": "code",
      "source": [
        "# This is a comment in Python\n",
        "x = 10 # this is also a comment"
      ],
      "metadata": {
        "id": "7UJmbmmTaFx9"
      },
      "execution_count": 3,
      "outputs": []
    },
    {
      "cell_type": "code",
      "source": [
        "x1 = x * 10\n",
        "x2 = x + 5\n",
        "\n",
        "print(x1) # Print the value of x1\n",
        "print(x1, x2) # Print the values of x1 and x2"
      ],
      "metadata": {
        "id": "Ivc72tB0X_TS"
      },
      "execution_count": 11,
      "outputs": []
    },
    {
      "cell_type": "markdown",
      "source": [
        "📝 지정 값을 보고 싶으면 'print' 입력, 안 쓰게 되면 마지막 결과값만 보여줌\n",
        "\n",
        "\"# 단축기 : ctrl+/\"\n",
        "\n"
      ],
      "metadata": {
        "id": "dk0-28q-I0cJ"
      }
    },
    {
      "cell_type": "code",
      "source": [
        "print(y, z)\n",
        "y1 = y + \"Welcome to the class.\"\n",
        "z1 = z + [3,2,1]\n",
        " \n",
        "print(y1, z1)"
      ],
      "metadata": {
        "id": "cxePqv-52RU0",
        "outputId": "d5c18159-d9bc-4b46-d671-bc3e413bf17b",
        "colab": {
          "base_uri": "https://localhost:8080/"
        }
      },
      "execution_count": 14,
      "outputs": [
        {
          "output_type": "stream",
          "name": "stdout",
          "text": [
            "Hello, class! [1, 2, 3]\n",
            "Hello, class!Welcome to the class. [1, 2, 3, 3, 2, 1]\n"
          ]
        }
      ]
    },
    {
      "cell_type": "code",
      "source": [],
      "metadata": {
        "id": "FK-__NwVKZYZ"
      },
      "execution_count": null,
      "outputs": []
    },
    {
      "cell_type": "markdown",
      "source": [
        "Input types:\n",
        "\n",
        "* integer(정수): e.g., -3, 1, 0, 234, etc.\n",
        "* float(소수): e.g., -3.0, 1.2, 0, 3.141592653589793238, etc.\n",
        "* string(문자): (characters) \"1\", '0', \"3.29\", \"Mary\", \"euphoria\", 'My name is Jane.'\n",
        "\n",
        "_Note:_ double or single quotation marks denote **string** data. (Open and close should match.)"
      ],
      "metadata": {
        "id": "4zDbyBHbeQsq"
      }
    },
    {
      "cell_type": "code",
      "source": [
        "# DIY\n",
        "x = 1\n",
        "y = 3\n",
        "z = x + y\n",
        "print(z)\n",
        "\n",
        "x1 = \"1\"\n",
        "y1 = \"3\"\n",
        "z1 = x1 + y1\n",
        "print(z1)"
      ],
      "metadata": {
        "colab": {
          "base_uri": "https://localhost:8080/"
        },
        "id": "yzZuC29QfP3T",
        "outputId": "acb8395f-966f-4db7-be83-6ae77b361429"
      },
      "execution_count": 15,
      "outputs": [
        {
          "output_type": "stream",
          "name": "stdout",
          "text": [
            "4\n",
            "13\n"
          ]
        }
      ]
    },
    {
      "cell_type": "code",
      "source": [
        "type(z)"
      ],
      "metadata": {
        "colab": {
          "base_uri": "https://localhost:8080/"
        },
        "id": "qwDb8cf5fkKi",
        "outputId": "a7560e48-441e-49f7-f6a4-798b196d1657"
      },
      "execution_count": 16,
      "outputs": [
        {
          "output_type": "execute_result",
          "data": {
            "text/plain": [
              "int"
            ]
          },
          "metadata": {},
          "execution_count": 16
        }
      ]
    },
    {
      "cell_type": "markdown",
      "source": [
        "📝 z의 타입이 integer이다. 라는 뜻"
      ],
      "metadata": {
        "id": "k4LLumqkLIWi"
      }
    },
    {
      "cell_type": "markdown",
      "source": [],
      "metadata": {
        "id": "ZDxM5IgWLAN5"
      }
    },
    {
      "cell_type": "code",
      "source": [
        "type(z1)"
      ],
      "metadata": {
        "colab": {
          "base_uri": "https://localhost:8080/"
        },
        "id": "L7sxvSaOfsOt",
        "outputId": "23b6850a-1846-4620-da35-9453d3871516"
      },
      "execution_count": 17,
      "outputs": [
        {
          "output_type": "execute_result",
          "data": {
            "text/plain": [
              "str"
            ]
          },
          "metadata": {},
          "execution_count": 17
        }
      ]
    },
    {
      "cell_type": "code",
      "source": [
        "print(type(z), type(z1))"
      ],
      "metadata": {
        "colab": {
          "base_uri": "https://localhost:8080/"
        },
        "id": "bbFaL_GWfwMH",
        "outputId": "cf75b0fa-f1d7-45f7-a5f1-7f5ba0d8a6ac"
      },
      "execution_count": 18,
      "outputs": [
        {
          "output_type": "stream",
          "name": "stdout",
          "text": [
            "<class 'int'> <class 'str'>\n"
          ]
        }
      ]
    },
    {
      "cell_type": "markdown",
      "source": [
        "## [2] Operators\n",
        "\n",
        "* Symbols that perform operations on values and variables. \n",
        "* They are used to perform arithmetic and logical operations, and they can also be used to manipulate and compare values. "
      ],
      "metadata": {
        "id": "5JgA2T2dRft5"
      }
    },
    {
      "cell_type": "markdown",
      "source": [
        "1. Arithmetic Operators: +, -, *, /, %, ** (for exponentiation)\n",
        "2. semicolon ';' - separate multiple statements (code lines) on a single line."
      ],
      "metadata": {
        "id": "NJBgu_O4bczL"
      }
    },
    {
      "cell_type": "code",
      "source": [
        "x = 2; y = 5\n",
        "\n",
        "a1 = x + y\n",
        "a2 = x - y\n",
        "a3 = x * y\n",
        "a4 = x / y\n",
        "a5 = x ** y"
      ],
      "metadata": {
        "id": "dXT3pIzobUHU"
      },
      "execution_count": 19,
      "outputs": []
    },
    {
      "cell_type": "code",
      "source": [
        "print(a1, a2, a3, a4, a5)"
      ],
      "metadata": {
        "colab": {
          "base_uri": "https://localhost:8080/"
        },
        "id": "_m3JBsOKd6Uv",
        "outputId": "028a9e67-ba36-4288-a0cd-59c5f4375d7d"
      },
      "execution_count": 20,
      "outputs": [
        {
          "output_type": "stream",
          "name": "stdout",
          "text": [
            "7 -3 10 0.4 32\n"
          ]
        }
      ]
    },
    {
      "cell_type": "code",
      "source": [
        "print(\"The value of a1:\", a1)"
      ],
      "metadata": {
        "colab": {
          "base_uri": "https://localhost:8080/"
        },
        "id": "5kq7I3nMd0Xi",
        "outputId": "c76dd437-ffb5-474e-f2ca-adeb920f05a5"
      },
      "execution_count": 21,
      "outputs": [
        {
          "output_type": "stream",
          "name": "stdout",
          "text": [
            "The value of a1: 7\n"
          ]
        }
      ]
    },
    {
      "cell_type": "markdown",
      "source": [
        "# 🌱 Define a function\n",
        "\n",
        "Demo 🔢 Calculator"
      ],
      "metadata": {
        "id": "Cx1NyWUAybc8"
      }
    },
    {
      "cell_type": "code",
      "source": [
        "# This function adds two numbers\n",
        "def add(x, y):\n",
        "    return x + y\n",
        "\n",
        "# This function subtracts two numbers\n",
        "def subtract(x, y):\n",
        "    return x - y\n",
        "\n",
        "# This function multiplies two numbers\n",
        "def multiply(x, y):\n",
        "    return x * y\n",
        "\n",
        "# This function divides two numbers\n",
        "def divide(x, y):\n",
        "    return x / y\n"
      ],
      "metadata": {
        "id": "Dod3_zgYdsWe"
      },
      "execution_count": 23,
      "outputs": []
    },
    {
      "cell_type": "code",
      "source": [
        "add(2003, 23)\n",
        "divide (9,3)\n",
        "subtract (2023,2003)"
      ],
      "metadata": {
        "id": "jYgf7fTGMsiy",
        "outputId": "9ad46ae8-d157-4da5-8f56-a075d360356c",
        "colab": {
          "base_uri": "https://localhost:8080/"
        }
      },
      "execution_count": 32,
      "outputs": [
        {
          "output_type": "execute_result",
          "data": {
            "text/plain": [
              "20"
            ]
          },
          "metadata": {},
          "execution_count": 32
        }
      ]
    },
    {
      "cell_type": "markdown",
      "source": [
        "📝 subtract 빼기\n",
        "\n",
        " ':'=\n",
        "\n",
        "실행 단축키 'ctrl+enter'\n",
        "\n"
      ],
      "metadata": {
        "id": "za0YLa7LLtmh"
      }
    },
    {
      "cell_type": "markdown",
      "source": [],
      "metadata": {
        "id": "g9LgsE8cLsV5"
      }
    },
    {
      "cell_type": "code",
      "source": [
        "# DIY: define a function names switch(x, y), where the input x, y changes its position in the output."
      ],
      "metadata": {
        "id": "W9CuAaqXgwb5"
      },
      "execution_count": 24,
      "outputs": []
    },
    {
      "cell_type": "code",
      "source": [
        "# Test\n",
        "\n",
        "# add(2,3)\n",
        "subtract(3,2)\n",
        "# multiply(2,3)\n",
        "# divide(3,2)"
      ],
      "metadata": {
        "id": "IoHh-U2GBsqH",
        "outputId": "8b6859d2-b582-46cb-d184-5faf31471e0d",
        "colab": {
          "base_uri": "https://localhost:8080/"
        }
      },
      "execution_count": 31,
      "outputs": [
        {
          "output_type": "execute_result",
          "data": {
            "text/plain": [
              "1"
            ]
          },
          "metadata": {},
          "execution_count": 31
        }
      ]
    },
    {
      "cell_type": "markdown",
      "source": [
        "## Using dropbox format"
      ],
      "metadata": {
        "id": "eOluPoNqCCE1"
      }
    },
    {
      "cell_type": "code",
      "source": [
        "!pip install gTTS"
      ],
      "metadata": {
        "id": "oBQv_aoIN49y",
        "outputId": "52155d96-fb38-40d1-b3f8-955de85f5c8c",
        "colab": {
          "base_uri": "https://localhost:8080/"
        }
      },
      "execution_count": 34,
      "outputs": [
        {
          "output_type": "stream",
          "name": "stdout",
          "text": [
            "Looking in indexes: https://pypi.org/simple, https://us-python.pkg.dev/colab-wheels/public/simple/\n",
            "Collecting gTTS\n",
            "  Downloading gTTS-2.3.1-py3-none-any.whl (28 kB)\n",
            "Requirement already satisfied: requests<3,>=2.27 in /usr/local/lib/python3.9/dist-packages (from gTTS) (2.27.1)\n",
            "Requirement already satisfied: click<8.2,>=7.1 in /usr/local/lib/python3.9/dist-packages (from gTTS) (8.1.3)\n",
            "Requirement already satisfied: charset-normalizer~=2.0.0 in /usr/local/lib/python3.9/dist-packages (from requests<3,>=2.27->gTTS) (2.0.12)\n",
            "Requirement already satisfied: certifi>=2017.4.17 in /usr/local/lib/python3.9/dist-packages (from requests<3,>=2.27->gTTS) (2022.12.7)\n",
            "Requirement already satisfied: idna<4,>=2.5 in /usr/local/lib/python3.9/dist-packages (from requests<3,>=2.27->gTTS) (3.4)\n",
            "Requirement already satisfied: urllib3<1.27,>=1.21.1 in /usr/local/lib/python3.9/dist-packages (from requests<3,>=2.27->gTTS) (1.26.15)\n",
            "Installing collected packages: gTTS\n",
            "Successfully installed gTTS-2.3.1\n"
          ]
        }
      ]
    },
    {
      "cell_type": "code",
      "source": [
        "from gtts import gTTS\n",
        "from IPython.display import Audio"
      ],
      "metadata": {
        "id": "FGDYH_tdOFNC"
      },
      "execution_count": 36,
      "outputs": []
    },
    {
      "cell_type": "code",
      "source": [
        "def tts(text):\n",
        "  gtts_object = gTTS(text,lang = \"en\", slow = True)\n",
        "  gtts_object.save(\"myaudio.mp3\")\n",
        "  return Audio(\"myaudio.mp3\")"
      ],
      "metadata": {
        "id": "Q46Acz02OJq6"
      },
      "execution_count": 38,
      "outputs": []
    },
    {
      "cell_type": "markdown",
      "source": [
        "📝 위에 코드 3개는 tts 정의하는 코드들"
      ],
      "metadata": {
        "id": "3eZNwg8DO5sC"
      }
    },
    {
      "cell_type": "code",
      "source": [
        "func = \"multiply\" #@param = [\"add\",\"subtract\",\"multiply\",\"divide\"]\n",
        "digits = input(\"Type two numbers: (e.g., 3,4)\")\n",
        "digitsplit = digits.split(',')\n",
        "d1 = int(digitsplit[0])\n",
        "d2 = int(digitsplit[1])\n",
        "\n",
        "if func == \"add\":\n",
        "  result = add(d1,d2)\n",
        "  text = \"The addition of %d and %d equals %d.\"%(d1,d2,result)\n",
        "elif func == \"subtract\":\n",
        "  result = subtract(d1,d2)\n",
        "  text = \"If you subtract %d from %d, you get %d.\"%(d2,d1,result)\n",
        "elif func == \"divide\":\n",
        "  result = divide(d1,d2)\n",
        "  text = \"When you divide %d by %d, you get %d.\"%(d1,d2,result)\n",
        "elif func == \"multiply\":\n",
        "  result = multiply(d1,d2)\n",
        "  text = \"%d multiplied by %d is %d.\"%(d1,d2,result)\n",
        "\n",
        "print(text)\n",
        "tts(text)\n",
        "Audio(\"myaudio.mp3\")"
      ],
      "metadata": {
        "cellView": "form",
        "id": "FT47bY6qBo3k",
        "outputId": "923fbf8e-d0a8-4a93-feb3-47d3016e898e",
        "colab": {
          "base_uri": "https://localhost:8080/",
          "height": 111
        }
      },
      "execution_count": 39,
      "outputs": [
        {
          "output_type": "stream",
          "name": "stdout",
          "text": [
            "Type two numbers: (e.g., 3,4)4,7\n",
            "If you subtract 7 from 4, you get -3.\n"
          ]
        },
        {
          "output_type": "execute_result",
          "data": {
            "text/plain": [
              "<IPython.lib.display.Audio object>"
            ],
            "text/html": [
              "\n",
              "                <audio  controls=\"controls\" >\n",
              "                    <source src=\"data:audio/mpeg;base64,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\" type=\"audio/mpeg\" />\n",
              "                    Your browser does not support the audio element.\n",
              "                </audio>\n",
              "              "
            ]
          },
          "metadata": {},
          "execution_count": 39
        }
      ]
    },
    {
      "cell_type": "markdown",
      "source": [
        "More operators: <br>\n",
        "* Comparison Operators: ==, !=, <, >, <=, >= <br>\n",
        "* Assignment Operators: =, +=, -=, *=, /=, %= <br>\n",
        "* Logical Operators: and, or, not <br>\n",
        "* Identity Operators: is, is not <br>\n",
        "* Membership Operators: in, not in "
      ],
      "metadata": {
        "id": "sfubu24UbqjH"
      }
    },
    {
      "cell_type": "markdown",
      "source": [
        "# 📗Topic [3] Data types: number, string, list and dictionary\n"
      ],
      "metadata": {
        "id": "3eSrUoglRh6-"
      }
    },
    {
      "cell_type": "markdown",
      "source": [
        "\n",
        "|Data type| |\n",
        "|:--:|:--:|\n",
        "|number|int, float|\n",
        "|string|charcter|\n",
        "|list|[1, 2,4], ['Mary','Tom','Jane'|\n",
        "|dictionary|(key: value), [('English': 80), ('Korean':90)]|\n",
        "|tuple|('zero', 0)|\n"
      ],
      "metadata": {
        "id": "ZVFb5JmJrPXu"
      }
    },
    {
      "cell_type": "code",
      "source": [
        "a1 = 3   # a1 is integer\n",
        "a2 = 3.0 # a2 is float\n",
        "a3 = \"3\" # a3 is string\n",
        "\n",
        "type(a1); type(a2); type(a3)\n",
        "# print(type(a1), type(a2), type(a3))"
      ],
      "metadata": {
        "colab": {
          "base_uri": "https://localhost:8080/"
        },
        "id": "g-kvldqENA1e",
        "outputId": "3d72a364-658e-4e1e-ff6f-7d059953233a"
      },
      "execution_count": 40,
      "outputs": [
        {
          "output_type": "execute_result",
          "data": {
            "text/plain": [
              "str"
            ]
          },
          "metadata": {},
          "execution_count": 40
        }
      ]
    },
    {
      "cell_type": "markdown",
      "source": [
        "list and index (0, 1, 2,...)"
      ],
      "metadata": {
        "id": "HC_wMsPnNbzs"
      }
    },
    {
      "cell_type": "code",
      "source": [
        "a = [1, \"Mary\", 4, \"John\"]  # This is a list.\n",
        "print(type(a))\n",
        "\n",
        "# a+a"
      ],
      "metadata": {
        "colab": {
          "base_uri": "https://localhost:8080/"
        },
        "id": "LyTw7phONZHE",
        "outputId": "257e8757-998a-48dc-8e51-62c538d826dd"
      },
      "execution_count": 41,
      "outputs": [
        {
          "output_type": "stream",
          "name": "stdout",
          "text": [
            "<class 'list'>\n"
          ]
        }
      ]
    },
    {
      "cell_type": "markdown",
      "source": [
        "* index: Python index starts from '0'\n",
        "\n",
        "e.g., a = [1, 2, 3, 4]"
      ],
      "metadata": {
        "id": "-fL-pJvj7NW8"
      }
    },
    {
      "cell_type": "code",
      "source": [
        "# a[0]\n",
        "# type(a[0])\n",
        "# type(a[1])\n",
        "# a[0] + a[2]\n",
        "# a[0] + a[1]"
      ],
      "metadata": {
        "id": "9Z5zLDGc7X13"
      },
      "execution_count": 51,
      "outputs": []
    },
    {
      "cell_type": "markdown",
      "source": [
        "📝 int+str=error\n",
        "\n",
        "파이썬, 0부터 셈"
      ],
      "metadata": {
        "id": "jie3vE6PQrPC"
      }
    },
    {
      "cell_type": "markdown",
      "source": [
        "[Github accounts](https://raw.githubusercontent.com/MK316/Spring2023/main/DL/files/DL_github.csv)"
      ],
      "metadata": {
        "id": "S-KG49Zaim0S"
      }
    },
    {
      "cell_type": "markdown",
      "source": [
        "\n",
        "\n",
        "---\n",
        "# The End\n"
      ],
      "metadata": {
        "id": "3cZjH9xIiN4_"
      }
    }
  ]
}