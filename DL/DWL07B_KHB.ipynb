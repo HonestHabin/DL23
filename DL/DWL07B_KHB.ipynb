{
  "nbformat": 4,
  "nbformat_minor": 0,
  "metadata": {
    "colab": {
      "provenance": [],
      "authorship_tag": "ABX9TyPX+uXot9Q1iP5eYn3dlHdc",
      "include_colab_link": true
    },
    "kernelspec": {
      "name": "python3",
      "display_name": "Python 3"
    },
    "language_info": {
      "name": "python"
    }
  },
  "cells": [
    {
      "cell_type": "markdown",
      "metadata": {
        "id": "view-in-github",
        "colab_type": "text"
      },
      "source": [
        "<a href=\"https://colab.research.google.com/github/HonestHabin/DL23/blob/main/DL/DWL07B_KHB.ipynb\" target=\"_parent\"><img src=\"https://colab.research.google.com/assets/colab-badge.svg\" alt=\"Open In Colab\"/></a>"
      ]
    },
    {
      "cell_type": "markdown",
      "source": [
        "# DLW07B Self-test\n",
        "\n",
        "+ Strings : A string is a sequence of characters enclosed in single or double quotes.\n",
        "+ Integers : Integers are whole numbers, positive or negative, without any decimal points.\n",
        "\n"
      ],
      "metadata": {
        "id": "X6ZfZyWjTTP8"
      }
    },
    {
      "cell_type": "markdown",
      "source": [
        "Exercise 1"
      ],
      "metadata": {
        "id": "YPXZK1sdUop7"
      }
    },
    {
      "cell_type": "code",
      "execution_count": null,
      "metadata": {
        "colab": {
          "base_uri": "https://localhost:8080/"
        },
        "id": "2j7dxObYQxD8",
        "outputId": "4beabc27-4644-4a39-d404-46dff8185566"
      },
      "outputs": [
        {
          "output_type": "stream",
          "name": "stdout",
          "text": [
            "Hello, students! 2023\n"
          ]
        }
      ],
      "source": [
        "greeting=\"Hello, students!\"\n",
        "year=2023"
      ]
    },
    {
      "cell_type": "markdown",
      "source": [
        "Exercise 2"
      ],
      "metadata": {
        "id": "_o1ohybYUuva"
      }
    },
    {
      "cell_type": "code",
      "source": [
        "print(greeting)\n",
        "print(year)"
      ],
      "metadata": {
        "colab": {
          "base_uri": "https://localhost:8080/"
        },
        "id": "MR9EY7EeUc96",
        "outputId": "07f89e94-97c9-46b8-c57d-3c6e3b11c202"
      },
      "execution_count": null,
      "outputs": [
        {
          "output_type": "stream",
          "name": "stdout",
          "text": [
            "Hello, students!\n",
            "2023\n"
          ]
        }
      ]
    },
    {
      "cell_type": "markdown",
      "source": [
        "Exercise 3"
      ],
      "metadata": {
        "id": "0cH5ydS_Whu6"
      }
    },
    {
      "cell_type": "code",
      "source": [
        "message=greeting + \" \" + str(year)\n",
        "message"
      ],
      "metadata": {
        "colab": {
          "base_uri": "https://localhost:8080/",
          "height": 36
        },
        "id": "FHt0r8aiSbXr",
        "outputId": "ed2fcc53-d2bf-4727-93b2-bd9481947c29"
      },
      "execution_count": null,
      "outputs": [
        {
          "output_type": "execute_result",
          "data": {
            "text/plain": [
              "'Hello, students! 2023'"
            ],
            "application/vnd.google.colaboratory.intrinsic+json": {
              "type": "string"
            }
          },
          "metadata": {},
          "execution_count": 5
        }
      ]
    },
    {
      "cell_type": "markdown",
      "source": [
        "Exercise 4"
      ],
      "metadata": {
        "id": "Lx29wWn_VKNS"
      }
    },
    {
      "cell_type": "code",
      "source": [
        "num1=10\n",
        "num2=3\n",
        "print(num1+num2)\n",
        "print(num1-num2)\n",
        "print(num1*num2)\n",
        "print(num1/num2)"
      ],
      "metadata": {
        "colab": {
          "base_uri": "https://localhost:8080/"
        },
        "id": "WGn42qRFVELi",
        "outputId": "90f67671-4717-495a-93b0-78e00454bbed"
      },
      "execution_count": null,
      "outputs": [
        {
          "output_type": "stream",
          "name": "stdout",
          "text": [
            "13\n",
            "7\n",
            "30\n",
            "3.3333333333333335\n"
          ]
        }
      ]
    },
    {
      "cell_type": "markdown",
      "source": [
        "Exercise 5"
      ],
      "metadata": {
        "id": "O_6gK9FXVqEr"
      }
    },
    {
      "cell_type": "code",
      "source": [
        "user_string = input ()"
      ],
      "metadata": {
        "colab": {
          "base_uri": "https://localhost:8080/"
        },
        "id": "wB6q9n0kVr2X",
        "outputId": "66932717-c890-41b9-fc0a-cbc3c6d1ff12"
      },
      "execution_count": null,
      "outputs": [
        {
          "name": "stdout",
          "output_type": "stream",
          "text": [
            "Hello\n"
          ]
        }
      ]
    },
    {
      "cell_type": "code",
      "source": [
        "print(user_string)"
      ],
      "metadata": {
        "colab": {
          "base_uri": "https://localhost:8080/"
        },
        "id": "-SPeLDnoVyPZ",
        "outputId": "5e3c67c2-35bd-44f9-9c0f-2a1b19883b3f"
      },
      "execution_count": null,
      "outputs": [
        {
          "output_type": "stream",
          "name": "stdout",
          "text": [
            "Hello\n"
          ]
        }
      ]
    },
    {
      "cell_type": "code",
      "source": [
        "user_number = input (\"Type any number: \")"
      ],
      "metadata": {
        "colab": {
          "base_uri": "https://localhost:8080/"
        },
        "id": "y0OQSQZRV4Lw",
        "outputId": "b24a94bc-040e-4620-e1ae-e8800b45a586"
      },
      "execution_count": null,
      "outputs": [
        {
          "name": "stdout",
          "output_type": "stream",
          "text": [
            "Type any number: 2023\n"
          ]
        }
      ]
    },
    {
      "cell_type": "markdown",
      "source": [
        "Exercise 6\n"
      ],
      "metadata": {
        "id": "J69IUXwXWvW1"
      }
    },
    {
      "cell_type": "code",
      "source": [
        "user_string = input (\"Type any string: \")\n",
        "user_naumber = input (\"Type any number: \") # input () is a basically string type.\n",
        "user_number = int(user_number) # string to integer\n",
        "\n",
        "user_string*user_number"
      ],
      "metadata": {
        "colab": {
          "base_uri": "https://localhost:8080/",
          "height": 288
        },
        "id": "hMoT6FU0WKKX",
        "outputId": "f7ecc68f-8c02-4959-b8e2-099177ec36de"
      },
      "execution_count": 24,
      "outputs": [
        {
          "name": "stdout",
          "output_type": "stream",
          "text": [
            "Type any string: Ddd\n",
            "Type any number: 3\n"
          ]
        },
        {
          "output_type": "execute_result",
          "data": {
            "text/plain": [
              "'DddDddDddDddDddDddDddDddDddDddDddDddDddDddDddDddDddDddDddDddDddDddDddDddDddDddDddDddDddDddDddDddDddDddDddDddDddDddDddDddDddDddDddDddDddDddDddDddDddDddDddDddDddDddDddDddDddDddDddDddDddDddDddDddDddDddDddDddDddDddDddDddDddDddDddDddDddDddDddDddDddDddDddDddDddDddDddDddDddDddDddDddDddDddDddDddDddDddDddDddDddDddDddDddDddDddDddDddDddDddDddDddDddDddDddDddDddDddDddDddDddDddDddDddDddDddDddDddDddDddDddDddDddDddDddDddDddDddDddDddDddDddDddDddDddDddDddDddDddDddDddDddDddDddDddDddDddDddDddDddDddDddDddDddDddDddDddDddDddDddDddDddDddDddDddDddDddDddDddDddDddDddDddDddDddDddDddDddDddDddDddDddDddDddDddDddDddDddDddDddDddDddDddDddDddDddDddDddDddDddDddDddDddDddDddDddDddDddDddDddDddDddDddDddDddDddDddDddDddDddDddDddDddDddDddDddDddDddDddDddDddDddDddDddDddDddDddDddDddDddDddDddDddDddDddDddDddDddDddDddDddDddDddDddDddDddDddDddDddDddDddDddDddDddDddDddDddDddDddDddDddDddDddDddDddDddDddDddDddDddDddDddDddDddDddDddDddDddDddDddDddDddDddDddDddDddDddDddDddDddDddDddDddDddDddDddDddDddDddDddDddDddDddDddDddDddDddDddDddDddDddDddDddDddDddDddDddDddDddDddDddDddDddDddDddDddDddDddDddDddDddDddDddDddDddDddDddDddDddDddDddDddDddDddDddDddDddDddDddDddDddDddDddDddDddDddDddDddDddDddDddDddDddDddDddDddDddDddDddDddDddDddDddDddDddDddDddDddDddDddDddDddDddDddDddDddDddDddDddDddDddDddDddDddDddDddDddDddDddDddDddDddDddDddDddDddDddDddDddDddDddDddDddDddDddDddDddDddDddDddDddDddDddDddDddDddDddDddDddDddDddDddDddDddDddDddDddDddDddDddDddDddDddDddDddDddDddDddDddDddDddDddDddDddDddDddDddDddDddDddDddDddDddDddDddDddDddDddDddDddDddDddDddDddDddDddDddDddDddDddDddDddDddDddDddDddDddDddDddDddDddDddDddDddDddDddDddDddDddDddDddDddDddDddDddDddDddDddDddDddDddDddDddDddDddDddDddDddDddDddDddDddDddDddDddDddDddDddDddDddDddDddDddDddDddDddDddDddDddDddDddDddDddDddDddDddDddDddDddDddDddDddDddDddDddDddDddDddDddDddDddDddDddDddDddDddDddDddDddDddDddDddDddDddDddDddDddDddDddDddDddDddDddDddDddDddDddDddDddDddDddDddDddDddDddDddDddDddDddDddDddDddDddDddDddDddDddDddDddDddDddDddDddDddDddDddDddDddDddDddDddDddDddDddDddDddDddDddDddDddDddDddDddDddDddDddDddDddDddDddDddDddDddDddDddDddDddDddDddDddDddDddDddDddDddDddDddDddDddDddDddDddDddDddDddDddDddDddDddDddDddDddDddDddDddDddDddDddDddDddDddDddDddDddDddDddDddDddDddDddDddDddDddDddDddDddDddDddDddDddDddDddDddDddDddDddDddDddDddDddDddDddDddDddDddDddDddDddDddDddDddDddDddDddDddDddDddDddDddDddDddDddDddDddDddDddDddDddDddDddDddDddDddDddDddDddDddDddDddDddDddDddDddDddDddDddDddDddDddDddDddDddDddDddDddDddDddDddDddDddDddDddDddDddDddDddDddDddDddDddDddDddDddDddDddDddDddDddDddDddDddDddDddDddDddDddDddDddDddDddDddDddDddDddDddDddDddDddDddDddDddDddDddDddDddDddDddDddDddDddDddDddDddDddDddDddDddDddDddDddDddDddDddDddDddDddDddDddDddDddDddDddDddDddDddDddDddDddDddDddDddDddDddDddDddDddDddDddDddDddDddDddDddDddDddDddDddDddDddDddDddDddDddDddDddDddDddDddDddDddDddDddDddDddDddDddDddDddDddDddDddDddDddDddDddDddDddDddDddDddDddDddDddDddDddDddDddDddDddDddDddDddDddDddDddDddDddDddDddDddDddDddDddDddDddDddDddDddDddDddDddDddDddDddDddDddDddDddDddDddDddDddDddDddDddDddDddDddDddDddDddDddDddDddDddDddDddDddDddDddDddDddDddDddDddDddDddDddDddDddDddDddDddDddDddDddDddDddDddDddDddDddDddDddDddDddDddDddDddDddDddDddDddDddDddDddDddDddDddDddDddDddDddDddDddDddDddDddDddDddDddDddDddDddDddDddDddDddDddDddDddDddDddDddDddDddDddDddDddDddDddDddDddDddDddDddDddDddDddDddDddDddDddDddDddDddDddDddDddDddDddDddDddDddDddDddDddDddDddDddDddDddDddDddDddDddDddDddDddDddDddDddDddDddDddDddDddDddDddDddDddDddDddDddDddDddDddDddDddDddDddDddDddDddDddDddDddDddDddDddDddDddDddDddDddDddDddDddDddDddDddDddDddDddDddDddDddDddDddDddDddDddDddDddDddDddDddDddDddDddDddDddDddDddDddDddDddDddDddDddDddDddDddDddDddDddDddDddDddDddDddDddDddDddDddDddDddDddDddDddDddDddDddDddDddDddDddDddDddDddDddDddDddDddDddDddDddDddDddDddDddDddDddDddDddDddDddDddDddDddDddDddDddDddDddDddDddDddDddDddDddDddDddDddDddDddDddDddDddDddDddDddDddDddDddDddDddDddDddDddDddDddDddDddDddDddDddDddDddDddDddDddDddDddDddDddDddDddDddDddDddDddDddDddDddDddDddDddDddDddDddDddDddDddDddDddDddDddDddDddDddDddDddDddDddDddDddDddDddDddDddDddDddDddDddDddDddDddDddDddDddDddDddDddDddDddDddDddDddDddDddDddDddDddDddDddDddDddDddDddDddDddDddDddDddDddDddDddDddDddDddDddDddDddDddDddDddDddDddDddDddDddDddDddDddDddDddDddDddDddDddDddDddDddDddDddDddDddDddDddDddDddDddDddDddDddDddDddDddDddDddDddDddDddDddDddDddDddDddDddDddDddDddDddDddDddDddDddDddDddDddDddDddDddDddDddDddDddDddDddDddDddDddDddDddDddDddDddDddDddDddDddDddDddDddDddDddDddDddDddDddDddDddDddDddDddDddDddDddDddDddDddDddDddDddDddDddDddDddDddDddDddDddDddDddDddDddDddDddDddDddDddDddDddDddDddDddDddDddDddDddDddDddDddDddDddDddDddDddDddDddDddDddDddDddDddDddDddDddDddDddDddDddDddDddDddDddDddDddDddDddDddDddDddDddDddDddDddDddDddDddDddDddDddDddDddDddDddDddDddDddDddDddDddDddDddDddDddDddDddDddDddDddDddDddDddDddDddDddDddDddDddDddDddDddDddDddDddDddDddDddDddDddDddDddDddDddDddDddDddDddDddDddDddDddDddDddDddDddDddDddDddDddDddDddDddDddDddDddDddDddDddDddDddDddDddDddDddDddDddDddDddDddDddDddDddDddDddDddDddDddDddDddDddDddDddDddDddDddDddDddDddDddDddDddDddDddDddDddDddDddDddDddDddDddDddDddDddDddDddDddDddDddDddDddDddDddDddDddDddDddDddDddDddDddDddDddDddDddDddDddDddDddDddDddDddDddDddDddDddDddDddDddDddDddDddDddDddDddDddDddDddDddDddDddDddDddDddDddDddDddDddDddDddDddDddDddDddDddDddDddDddDddDddDddDddDddDddDddDddDddDddDddDddDddDddDddDddDddDddDddDddDddDddDddDddDddDddDddDddDddDddDddDddDddDddDddDddDddDddDddDddDddDddDddDddDddDddDddDddDddDddDddDddDddDddDddDddDddDddDddDddDddDddDddDddDddDddDddDddDddDddDddDddDddDddDddDddDddDddDddDddDddDddDddDddDddDddDddDddDddDddDddDddDddDddDddDddDddDddDddDddDddDddDddDddDddDddDddDddDddDddDddDddDddDddDddDddDddDddDddDddDddDddDddDddDddDddDddDddDddDddDddDddDddDddDddDddDddDddDddDddDddDddDddDddDddDddDddDddDddDddDddDddDddDddDddDddDddDddDddDddDddDddDddDddDddDddDddDddDddDddDddDddDddDddDddDddDddDddDddDddDddDddDddDddDddDddDddDddDddDddDddDddDddDddDddDddDddDddDddDddDddDddDddDddDddDddDddDddDddDddDddDddDddDddDddDddDddDddDddDddDddDddDddDddDddDddDddDddDddDddDddDddDddDddDddDddDddDddDddDddDddDddDddDddDddDddDddDddDddDddDddDddDddDddDddDddDddDddDddDddDddDddDddDddDddDddDddDddDddDddDddDddDddDddDddDddDddDddDddDddDddDddDddDddDddDddDddDddDddDddDddDddDddDddDddDddDddDddDddDddDddDddDddDddDddDddDddDddDddDddDddDddDddDddDddDddDddDddDddDddDddDddDddDddDddDddDddDddDddDddDddDddDddDddDddDddDddDddDddDddDdd'"
            ],
            "application/vnd.google.colaboratory.intrinsic+json": {
              "type": "string"
            }
          },
          "metadata": {},
          "execution_count": 24
        }
      ]
    },
    {
      "cell_type": "code",
      "source": [
        "a=int(user_number)\n",
        "type(a)"
      ],
      "metadata": {
        "id": "DbLCaQ2JXp3H",
        "colab": {
          "base_uri": "https://localhost:8080/"
        },
        "outputId": "d9f902c1-5c1e-4073-ecb8-5e8a3da4ae18"
      },
      "execution_count": 20,
      "outputs": [
        {
          "output_type": "execute_result",
          "data": {
            "text/plain": [
              "int"
            ]
          },
          "metadata": {},
          "execution_count": 20
        }
      ]
    },
    {
      "cell_type": "markdown",
      "source": [
        "Exercise 7"
      ],
      "metadata": {
        "id": "VPbDC0HXW0Dr"
      }
    },
    {
      "cell_type": "code",
      "source": [
        "sentence=\"Coding is fun and hard to learn!\"\n",
        "sentence.split()"
      ],
      "metadata": {
        "colab": {
          "base_uri": "https://localhost:8080/"
        },
        "id": "FoLwCSLgW3wz",
        "outputId": "df9703b8-e184-4f22-b38c-0d8043893e72"
      },
      "execution_count": 44,
      "outputs": [
        {
          "output_type": "execute_result",
          "data": {
            "text/plain": [
              "['Coding', 'is', 'fun', 'and', 'hard', 'to', 'learn!']"
            ]
          },
          "metadata": {},
          "execution_count": 44
        }
      ]
    },
    {
      "cell_type": "markdown",
      "source": [
        "Exercise 8"
      ],
      "metadata": {
        "id": "dkmXxVsrbiKA"
      }
    },
    {
      "cell_type": "code",
      "source": [
        "type(sentence.split())\n"
      ],
      "metadata": {
        "colab": {
          "base_uri": "https://localhost:8080/"
        },
        "id": "PiSALzdfZtFy",
        "outputId": "a831dbe5-4a99-4b64-a621-e10b4a0316b0"
      },
      "execution_count": 27,
      "outputs": [
        {
          "output_type": "execute_result",
          "data": {
            "text/plain": [
              "list"
            ]
          },
          "metadata": {},
          "execution_count": 27
        }
      ]
    },
    {
      "cell_type": "code",
      "source": [
        "a=\"Coding is Exciting!\"\n",
        "uppercase_text = a.upper ()\n",
        "lowercase_text = a.lower ()\n",
        "lowercase_text"
      ],
      "metadata": {
        "colab": {
          "base_uri": "https://localhost:8080/",
          "height": 36
        },
        "id": "uXYLYXFGaElH",
        "outputId": "038c7242-0906-43f6-94b0-8807bd86862c"
      },
      "execution_count": 31,
      "outputs": [
        {
          "output_type": "execute_result",
          "data": {
            "text/plain": [
              "'coding is exciting!'"
            ],
            "application/vnd.google.colaboratory.intrinsic+json": {
              "type": "string"
            }
          },
          "metadata": {},
          "execution_count": 31
        }
      ]
    },
    {
      "cell_type": "code",
      "source": [
        "quote = \"To be or not to be, that is the question.\""
      ],
      "metadata": {
        "id": "ucGZk-RuadWP"
      },
      "execution_count": 36,
      "outputs": []
    },
    {
      "cell_type": "code",
      "source": [
        "quote[0]"
      ],
      "metadata": {
        "colab": {
          "base_uri": "https://localhost:8080/",
          "height": 36
        },
        "id": "YksRLjQTapux",
        "outputId": "f12886cb-6ed0-4ba0-87a4-69d509fa6c42"
      },
      "execution_count": 38,
      "outputs": [
        {
          "output_type": "execute_result",
          "data": {
            "text/plain": [
              "'T'"
            ],
            "application/vnd.google.colaboratory.intrinsic+json": {
              "type": "string"
            }
          },
          "metadata": {},
          "execution_count": 38
        }
      ]
    },
    {
      "cell_type": "code",
      "source": [
        "quote[-1]"
      ],
      "metadata": {
        "colab": {
          "base_uri": "https://localhost:8080/",
          "height": 36
        },
        "id": "egNkft8oa5Ev",
        "outputId": "6d717313-db3a-45fe-96fa-22875ceda557"
      },
      "execution_count": 39,
      "outputs": [
        {
          "output_type": "execute_result",
          "data": {
            "text/plain": [
              "'.'"
            ],
            "application/vnd.google.colaboratory.intrinsic+json": {
              "type": "string"
            }
          },
          "metadata": {},
          "execution_count": 39
        }
      ]
    },
    {
      "cell_type": "code",
      "source": [
        "quote[0:5]"
      ],
      "metadata": {
        "colab": {
          "base_uri": "https://localhost:8080/",
          "height": 36
        },
        "id": "Qm5zr6v_a81f",
        "outputId": "37961ad3-cdcf-48b4-bc72-b9aa0544d444"
      },
      "execution_count": 40,
      "outputs": [
        {
          "output_type": "execute_result",
          "data": {
            "text/plain": [
              "'To be'"
            ],
            "application/vnd.google.colaboratory.intrinsic+json": {
              "type": "string"
            }
          },
          "metadata": {},
          "execution_count": 40
        }
      ]
    },
    {
      "cell_type": "code",
      "source": [
        "quote[5:]"
      ],
      "metadata": {
        "colab": {
          "base_uri": "https://localhost:8080/",
          "height": 36
        },
        "id": "-UkgjiESbCRV",
        "outputId": "2e019c39-a00f-42b6-f913-b24d1749cc98"
      },
      "execution_count": 41,
      "outputs": [
        {
          "output_type": "execute_result",
          "data": {
            "text/plain": [
              "' or not to be, that is the question.'"
            ],
            "application/vnd.google.colaboratory.intrinsic+json": {
              "type": "string"
            }
          },
          "metadata": {},
          "execution_count": 41
        }
      ]
    },
    {
      "cell_type": "code",
      "source": [
        "reverse=quote[::-1]\n",
        "print(reverse)"
      ],
      "metadata": {
        "colab": {
          "base_uri": "https://localhost:8080/"
        },
        "id": "sP1-tnQMbH1G",
        "outputId": "e547dab9-4450-4f19-f600-08364b45e8ca"
      },
      "execution_count": 43,
      "outputs": [
        {
          "output_type": "stream",
          "name": "stdout",
          "text": [
            ".noitseuq eht si taht ,eb ot ton ro eb oT\n"
          ]
        }
      ]
    }
  ]
}