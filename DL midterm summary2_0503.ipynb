{
  "nbformat": 4,
  "nbformat_minor": 0,
  "metadata": {
    "colab": {
      "provenance": [],
      "authorship_tag": "ABX9TyNVZ4ZoHz8lwrJQtcAvdmpb",
      "include_colab_link": true
    },
    "kernelspec": {
      "name": "python3",
      "display_name": "Python 3"
    },
    "language_info": {
      "name": "python"
    }
  },
  "cells": [
    {
      "cell_type": "markdown",
      "metadata": {
        "id": "view-in-github",
        "colab_type": "text"
      },
      "source": [
        "<a href=\"https://colab.research.google.com/github/HonestHabin/DL23/blob/main/DL%20midterm%20summary2_0503.ipynb\" target=\"_parent\"><img src=\"https://colab.research.google.com/assets/colab-badge.svg\" alt=\"Open In Colab\"/></a>"
      ]
    },
    {
      "cell_type": "markdown",
      "source": [
        "# DLW07B Self-test\n",
        "\n",
        "+ Strings : A string is a sequence of characters enclosed in single or double quotes.\n",
        "+ Integers : Integers are whole numbers, positive or negative, without any decimal points.\n",
        "\n"
      ],
      "metadata": {
        "id": "X6ZfZyWjTTP8"
      }
    },
    {
      "cell_type": "markdown",
      "source": [
        "Exercise 1"
      ],
      "metadata": {
        "id": "YPXZK1sdUop7"
      }
    },
    {
      "cell_type": "code",
      "execution_count": 1,
      "metadata": {
        "id": "2j7dxObYQxD8"
      },
      "outputs": [],
      "source": [
        "greeting=\"Hello, students!\"\n",
        "year=2023"
      ]
    },
    {
      "cell_type": "markdown",
      "source": [
        "Exercise 2"
      ],
      "metadata": {
        "id": "_o1ohybYUuva"
      }
    },
    {
      "cell_type": "code",
      "source": [
        "print(greeting, year)"
      ],
      "metadata": {
        "colab": {
          "base_uri": "https://localhost:8080/"
        },
        "id": "MR9EY7EeUc96",
        "outputId": "1a3985a5-782a-441e-ac60-56823a9e9263"
      },
      "execution_count": 2,
      "outputs": [
        {
          "output_type": "stream",
          "name": "stdout",
          "text": [
            "Hello, students! 2023\n"
          ]
        }
      ]
    },
    {
      "cell_type": "markdown",
      "source": [
        "Exercise 3"
      ],
      "metadata": {
        "id": "0cH5ydS_Whu6"
      }
    },
    {
      "cell_type": "code",
      "source": [
        "message=greeting + \" \" + str(year)\n",
        "message"
      ],
      "metadata": {
        "colab": {
          "base_uri": "https://localhost:8080/",
          "height": 35
        },
        "id": "FHt0r8aiSbXr",
        "outputId": "ef08ce77-985e-440a-9b7d-e4a4c321022f"
      },
      "execution_count": 3,
      "outputs": [
        {
          "output_type": "execute_result",
          "data": {
            "text/plain": [
              "'Hello, students! 2023'"
            ],
            "application/vnd.google.colaboratory.intrinsic+json": {
              "type": "string"
            }
          },
          "metadata": {},
          "execution_count": 3
        }
      ]
    },
    {
      "cell_type": "markdown",
      "source": [
        "Exercise 4"
      ],
      "metadata": {
        "id": "Lx29wWn_VKNS"
      }
    },
    {
      "cell_type": "code",
      "source": [
        "num1=10\n",
        "num2=3\n",
        "print(num1+num2)\n",
        "print(num1-num2)\n",
        "print(num1*num2)\n",
        "print(num1/num2)"
      ],
      "metadata": {
        "colab": {
          "base_uri": "https://localhost:8080/"
        },
        "id": "WGn42qRFVELi",
        "outputId": "1cb25cad-6ac0-4ae2-ceea-e2472f570464"
      },
      "execution_count": 4,
      "outputs": [
        {
          "output_type": "stream",
          "name": "stdout",
          "text": [
            "13\n",
            "7\n",
            "30\n",
            "3.3333333333333335\n"
          ]
        }
      ]
    },
    {
      "cell_type": "markdown",
      "source": [
        "Exercise 5: Input string and integer from user\n",
        "Prompt the user for a string called user_string and an integer called user_number. Then, print the user_string repeated user_number times.\n",
        "\n",
        "Hint: You'll need to use the input() function and convert the input to an integer using the int() function."
      ],
      "metadata": {
        "id": "O_6gK9FXVqEr"
      }
    },
    {
      "cell_type": "code",
      "source": [
        "user_string = input()\n",
        "user_number = input()\n",
        "\n",
        "user_number = int(user_number)\n",
        "#input 결과값은 항상 'string'이기에 숫자로 바꿔줘야함 ㅠㅠ\n",
        "#제발 까먹지마 ..."
      ],
      "metadata": {
        "colab": {
          "base_uri": "https://localhost:8080/"
        },
        "id": "wB6q9n0kVr2X",
        "outputId": "623f76df-c50e-4c67-a039-be1c4d1ba53b"
      },
      "execution_count": 24,
      "outputs": [
        {
          "name": "stdout",
          "output_type": "stream",
          "text": [
            "ㅇㅇ\n",
            "5\n"
          ]
        }
      ]
    },
    {
      "cell_type": "code",
      "source": [
        "user_string*user_number"
      ],
      "metadata": {
        "colab": {
          "base_uri": "https://localhost:8080/",
          "height": 35
        },
        "id": "hMoT6FU0WKKX",
        "outputId": "27063a82-4d39-4935-f917-e1a6b5790348"
      },
      "execution_count": 25,
      "outputs": [
        {
          "output_type": "execute_result",
          "data": {
            "text/plain": [
              "'ㅇㅇㅇㅇㅇㅇㅇㅇㅇㅇ'"
            ],
            "application/vnd.google.colaboratory.intrinsic+json": {
              "type": "string"
            }
          },
          "metadata": {},
          "execution_count": 25
        }
      ]
    },
    {
      "cell_type": "markdown",
      "source": [
        "Exercise 6\n"
      ],
      "metadata": {
        "id": "J69IUXwXWvW1"
      }
    },
    {
      "cell_type": "code",
      "source": [
        "a = \"Coding is fun and easy to learn!\"\n",
        "a.split( )"
      ],
      "metadata": {
        "colab": {
          "base_uri": "https://localhost:8080/"
        },
        "id": "TJJBwdX3Gph5",
        "outputId": "fe6e4712-e74a-44e6-a722-164f3888159c"
      },
      "execution_count": 22,
      "outputs": [
        {
          "output_type": "execute_result",
          "data": {
            "text/plain": [
              "['Coding', 'is', 'fun', 'and', 'easy', 'to', 'learn!']"
            ]
          },
          "metadata": {},
          "execution_count": 22
        }
      ]
    },
    {
      "cell_type": "code",
      "source": [
        "type(a.split())\n"
      ],
      "metadata": {
        "colab": {
          "base_uri": "https://localhost:8080/"
        },
        "id": "PiSALzdfZtFy",
        "outputId": "9b9c4ead-2074-4273-c6d9-9875ecee99e7"
      },
      "execution_count": 23,
      "outputs": [
        {
          "output_type": "execute_result",
          "data": {
            "text/plain": [
              "list"
            ]
          },
          "metadata": {},
          "execution_count": 23
        }
      ]
    },
    {
      "cell_type": "code",
      "source": [
        "a=int(user_number)\n",
        "type(a)"
      ],
      "metadata": {
        "id": "DbLCaQ2JXp3H",
        "colab": {
          "base_uri": "https://localhost:8080/"
        },
        "outputId": "d9f902c1-5c1e-4073-ecb8-5e8a3da4ae18"
      },
      "execution_count": null,
      "outputs": [
        {
          "output_type": "execute_result",
          "data": {
            "text/plain": [
              "int"
            ]
          },
          "metadata": {},
          "execution_count": 20
        }
      ]
    },
    {
      "cell_type": "markdown",
      "source": [
        "Exercise 7"
      ],
      "metadata": {
        "id": "VPbDC0HXW0Dr"
      }
    },
    {
      "cell_type": "code",
      "source": [
        "a=\"Coding is Exciting!\"\n",
        "uppercase_text = a.upper ()\n",
        "lowercase_text = a.lower ()\n",
        "lowercase_text"
      ],
      "metadata": {
        "colab": {
          "base_uri": "https://localhost:8080/",
          "height": 36
        },
        "id": "uXYLYXFGaElH",
        "outputId": "038c7242-0906-43f6-94b0-8807bd86862c"
      },
      "execution_count": null,
      "outputs": [
        {
          "output_type": "execute_result",
          "data": {
            "text/plain": [
              "'coding is exciting!'"
            ],
            "application/vnd.google.colaboratory.intrinsic+json": {
              "type": "string"
            }
          },
          "metadata": {},
          "execution_count": 31
        }
      ]
    },
    {
      "cell_type": "markdown",
      "source": [
        "Exercise 8"
      ],
      "metadata": {
        "id": "dkmXxVsrbiKA"
      }
    },
    {
      "cell_type": "code",
      "source": [
        "quote = \"To be or not to be, that is the question.\""
      ],
      "metadata": {
        "id": "ucGZk-RuadWP"
      },
      "execution_count": null,
      "outputs": []
    },
    {
      "cell_type": "code",
      "source": [
        "quote[0]"
      ],
      "metadata": {
        "colab": {
          "base_uri": "https://localhost:8080/",
          "height": 36
        },
        "id": "YksRLjQTapux",
        "outputId": "f12886cb-6ed0-4ba0-87a4-69d509fa6c42"
      },
      "execution_count": null,
      "outputs": [
        {
          "output_type": "execute_result",
          "data": {
            "text/plain": [
              "'T'"
            ],
            "application/vnd.google.colaboratory.intrinsic+json": {
              "type": "string"
            }
          },
          "metadata": {},
          "execution_count": 38
        }
      ]
    },
    {
      "cell_type": "code",
      "source": [
        "quote[-1]"
      ],
      "metadata": {
        "colab": {
          "base_uri": "https://localhost:8080/",
          "height": 36
        },
        "id": "egNkft8oa5Ev",
        "outputId": "6d717313-db3a-45fe-96fa-22875ceda557"
      },
      "execution_count": null,
      "outputs": [
        {
          "output_type": "execute_result",
          "data": {
            "text/plain": [
              "'.'"
            ],
            "application/vnd.google.colaboratory.intrinsic+json": {
              "type": "string"
            }
          },
          "metadata": {},
          "execution_count": 39
        }
      ]
    },
    {
      "cell_type": "code",
      "source": [
        "quote[0:5]"
      ],
      "metadata": {
        "colab": {
          "base_uri": "https://localhost:8080/",
          "height": 36
        },
        "id": "Qm5zr6v_a81f",
        "outputId": "37961ad3-cdcf-48b4-bc72-b9aa0544d444"
      },
      "execution_count": null,
      "outputs": [
        {
          "output_type": "execute_result",
          "data": {
            "text/plain": [
              "'To be'"
            ],
            "application/vnd.google.colaboratory.intrinsic+json": {
              "type": "string"
            }
          },
          "metadata": {},
          "execution_count": 40
        }
      ]
    },
    {
      "cell_type": "code",
      "source": [
        "quote[5:]"
      ],
      "metadata": {
        "colab": {
          "base_uri": "https://localhost:8080/",
          "height": 36
        },
        "id": "-UkgjiESbCRV",
        "outputId": "2e019c39-a00f-42b6-f913-b24d1749cc98"
      },
      "execution_count": null,
      "outputs": [
        {
          "output_type": "execute_result",
          "data": {
            "text/plain": [
              "' or not to be, that is the question.'"
            ],
            "application/vnd.google.colaboratory.intrinsic+json": {
              "type": "string"
            }
          },
          "metadata": {},
          "execution_count": 41
        }
      ]
    },
    {
      "cell_type": "code",
      "source": [
        "reverse=quote[::-1]\n",
        "print(reverse)"
      ],
      "metadata": {
        "colab": {
          "base_uri": "https://localhost:8080/"
        },
        "id": "sP1-tnQMbH1G",
        "outputId": "e547dab9-4450-4f19-f600-08364b45e8ca"
      },
      "execution_count": null,
      "outputs": [
        {
          "output_type": "stream",
          "name": "stdout",
          "text": [
            ".noitseuq eht si taht ,eb ot ton ro eb oT\n"
          ]
        }
      ]
    }
  ]
}