{
  "nbformat": 4,
  "nbformat_minor": 0,
  "metadata": {
    "colab": {
      "provenance": [],
      "authorship_tag": "ABX9TyPNTw7o6FGmf3wHRBZ3G7kW",
      "include_colab_link": true
    },
    "kernelspec": {
      "name": "python3",
      "display_name": "Python 3"
    },
    "language_info": {
      "name": "python"
    }
  },
  "cells": [
    {
      "cell_type": "markdown",
      "metadata": {
        "id": "view-in-github",
        "colab_type": "text"
      },
      "source": [
        "<a href=\"https://colab.research.google.com/github/HonestHabin/DL23/blob/main/DL_midterm_summary1_0503.ipynb\" target=\"_parent\"><img src=\"https://colab.research.google.com/assets/colab-badge.svg\" alt=\"Open In Colab\"/></a>"
      ]
    },
    {
      "cell_type": "markdown",
      "source": [
        "# ✍ **Digital Literacy & English Education summary**"
      ],
      "metadata": {
        "id": "WktDhcY56yCZ"
      }
    },
    {
      "cell_type": "markdown",
      "source": [
        "####**Digital age?**\n",
        "The digital era refers to the current period of human history characterized by the widespread use of digital techonology, shuch as computers, the internet, and mobile devices, and the transformation of various aspects of society as a result.\n",
        "\n",
        "- **Increased Connectivity** : communicate and share information globally\n",
        "- **Data-Driven** : big data analytics\n",
        "- **Digitizaition of Nearly Everything** : digitization of nearly all aspects of life\n",
        "\n"
      ],
      "metadata": {
        "id": "tZuxeePs7koQ"
      }
    },
    {
      "cell_type": "markdown",
      "source": [
        "#### **Digital Literacy?**\n",
        "the ability to use information and communication technologies to find, evaluate, create, and communicate information"
      ],
      "metadata": {
        "id": "MnV2HTQ72zu0"
      }
    },
    {
      "cell_type": "markdown",
      "source": [
        "####**Python?**\n",
        "+ Python is a popular and **easy-to-learn** programming language.\n",
        "+It is used for **web development, data analysis, and artificial intelligence.**\n",
        "+Python has a **simple syntax,** making it a great choice for beginners.\n",
        "+It has a **large and active community,** offering many resources and support.\n",
        "+Python has a **vast library of pre-built modules and packages,** saving time and effort in development.\n",
        "+Overall, Python is an **accessible and practical language to learn, with many applications in different fields.** "
      ],
      "metadata": {
        "id": "LtDWN5R985XT"
      }
    },
    {
      "cell_type": "markdown",
      "source": [
        "## **1. API(Application Programming Interface)**\n"
      ],
      "metadata": {
        "id": "jBynbcZk9UzD"
      }
    },
    {
      "cell_type": "markdown",
      "source": [
        "###**1) Install gTTs**"
      ],
      "metadata": {
        "id": "idpLcfQw9qb_"
      }
    },
    {
      "cell_type": "code",
      "source": [
        "# Install gTTS\n",
        "!pip install gTTS\n",
        "\n",
        "# Import necessary libraries (gTTS)\n",
        "from gtts import gTTS\n",
        "from IPython.display import Audio\n",
        "\n",
        "# \n",
        "def tts(text):\n",
        "  gtts_object = gTTS(text,lang = \"en\", slow = True) \n",
        "  gtts_object.save(\"myaudio.mp3\")\n",
        "  return Audio(\"myaudio.mp3\")"
      ],
      "metadata": {
        "colab": {
          "base_uri": "https://localhost:8080/"
        },
        "id": "mS9YnR3v9cyz",
        "outputId": "ea517eed-3385-4c35-bde3-0f6d77ee3ba2"
      },
      "execution_count": null,
      "outputs": [
        {
          "output_type": "stream",
          "name": "stdout",
          "text": [
            "Looking in indexes: https://pypi.org/simple, https://us-python.pkg.dev/colab-wheels/public/simple/\n",
            "Requirement already satisfied: gTTS in /usr/local/lib/python3.10/dist-packages (2.3.2)\n",
            "Requirement already satisfied: requests<3,>=2.27 in /usr/local/lib/python3.10/dist-packages (from gTTS) (2.27.1)\n",
            "Requirement already satisfied: click<8.2,>=7.1 in /usr/local/lib/python3.10/dist-packages (from gTTS) (8.1.3)\n",
            "Requirement already satisfied: certifi>=2017.4.17 in /usr/local/lib/python3.10/dist-packages (from requests<3,>=2.27->gTTS) (2022.12.7)\n",
            "Requirement already satisfied: urllib3<1.27,>=1.21.1 in /usr/local/lib/python3.10/dist-packages (from requests<3,>=2.27->gTTS) (1.26.15)\n",
            "Requirement already satisfied: charset-normalizer~=2.0.0 in /usr/local/lib/python3.10/dist-packages (from requests<3,>=2.27->gTTS) (2.0.12)\n",
            "Requirement already satisfied: idna<4,>=2.5 in /usr/local/lib/python3.10/dist-packages (from requests<3,>=2.27->gTTS) (3.4)\n"
          ]
        }
      ]
    },
    {
      "cell_type": "markdown",
      "source": [
        "###**2) Display Audio**"
      ],
      "metadata": {
        "id": "WMC58vQ7CFon"
      }
    },
    {
      "cell_type": "code",
      "source": [
        "from IPython.display import Audio\n",
        "\n",
        "Audio(\"myaudio.mp3\", autoplay = True)\n",
        "# The audio file should be in the colab platform /content/myaudio.mp3"
      ],
      "metadata": {
        "id": "_Jts9h4nCJTM"
      },
      "execution_count": null,
      "outputs": []
    },
    {
      "cell_type": "markdown",
      "source": [
        "###**3) Definition Description**"
      ],
      "metadata": {
        "id": "8NlWlU68COk8"
      }
    },
    {
      "cell_type": "markdown",
      "source": [
        "- **def tts(text)**: This line defines a function called tts that takes a text argument. The purpose of this function is to convert the given text into an audio file.\n",
        "\n",
        "**-> 텍스트 인수를 받는 tts라는 함수를 정의. 이 기능의 목적은 주어진 텍스트를 오디오 파일로 변환하는 것.**\n",
        "\n",
        "\n",
        "- **gtts_object = gTTS(text,lang = \"en\", slow = True)**\n",
        ": This line creates a new gTTS object with the given text, specifying the language as English and the speech speed as slow. \n",
        "\n",
        "**-> 지정된 텍스트를 새로운 gTTS 개체를 만들어 언어를 영어로 지정하고 음성 속도를 느리게 지정.**\n",
        "\n",
        "\n",
        "- **gtts_object.save(\"myaudio.mp3\")**: This line saves the audio file generated by the gTTS object to the file \"myaudio.mp3\" on the local filesystem. \n",
        "\n",
        "**-> gTTS에 의해 생성된 오디오 파일을 로컬 파일 시스템 \"myaudio.mp3\"파일에 저장.**\n",
        "\n",
        "\n",
        "- **return Audio(\"myaudio.mp3\")** : This line returns an Audio object representing the audio file that was just saved. The Audio object can be used to play the audio file or manipulate it in various ways.\n",
        "\n",
        "**-> 방금 저장된 오디오 파일을 나타내는 오디오 개체를 반환한다. 오디오 개체는 오디오 파일을 재생하거나 다양한 방법으로 조작하는 데 사용 가능.**"
      ],
      "metadata": {
        "id": "dLs9lezvBw9Y"
      }
    },
    {
      "cell_type": "code",
      "source": [
        "tts(\"I'm reveiwing DL I learned today\")"
      ],
      "metadata": {
        "id": "y8mP6MDpC17z"
      },
      "execution_count": null,
      "outputs": []
    },
    {
      "cell_type": "markdown",
      "source": [
        "- **tts('I'm reveiwing DL I learned today')**\n",
        "\n",
        "- This line of code invokes the tts function with the argument 'I'm reveiwing DL I learned today'. This will generate an audio file containing the speech corresponding to the text \"I'm reviewing DL I learned today\" in English language spoken at a slow speed. The audio file will be saved on the local file system with the name \"myaudio.mp3\".\n",
        "\n",
        "**->  이 코드의 줄은 'I'm reveiwing DL I learened today' 인수로 tts 함수를 호출한다. 이것은 느린 속도로 영어로 말하는 'I'm reveiwing DL I learned today' 텍스트에 해당하는 음성이 포함된 오디오 파일을 생산할 것이다. 오디오 파일은 \"myaudio.mp3\"라는 이름으로 로컬 파일 시스템에 저장될 것이다.**"
      ],
      "metadata": {
        "id": "WzZs2sFeC2lK"
      }
    },
    {
      "cell_type": "markdown",
      "source": [
        "###**4) kTTS, eTTS, fTTS**"
      ],
      "metadata": {
        "id": "Sv0iH3xv9-YP"
      }
    },
    {
      "cell_type": "markdown",
      "source": [
        "#### (1) kTTS"
      ],
      "metadata": {
        "id": "-LL3dgow-ToT"
      }
    },
    {
      "cell_type": "code",
      "source": [
        "def ktts(text):\n",
        "  text_to_say = text\n",
        "\n",
        "  gtts_object = gTTS(text = text_to_say,\n",
        "                     lang = \"ko\",\n",
        "                    slow = False)\n",
        "  \n",
        "  gtts_object.save(\"K-audio.mp3\")\n",
        "  return Audio(\"K-audio.mp3\")"
      ],
      "metadata": {
        "id": "0KHZixVR-JKj"
      },
      "execution_count": null,
      "outputs": []
    },
    {
      "cell_type": "markdown",
      "source": [
        "#### (2) eTTS"
      ],
      "metadata": {
        "id": "-UPKU6w0-XqD"
      }
    },
    {
      "cell_type": "code",
      "source": [
        "def etts(text):\n",
        "  text_to_say = text\n",
        "\n",
        "  gtts_object = gTTS(text = text_to_say,\n",
        "                     lang = \"en\", tld = \"us\",\n",
        "                    slow = True)\n",
        "  \n",
        "  gtts_object.save(\"E-audio.mp3\")\n",
        "  return Audio(\"E-audio.mp3\")"
      ],
      "metadata": {
        "id": "Jou8kTFv-CiD"
      },
      "execution_count": null,
      "outputs": []
    },
    {
      "cell_type": "markdown",
      "source": [
        "#### (3) fTTS"
      ],
      "metadata": {
        "id": "RDRhSUhE-YmD"
      }
    },
    {
      "cell_type": "code",
      "source": [
        "def ftts(text):\n",
        "  text_to_say = text\n",
        "\n",
        "  gtts_object = gTTS(text = text_to_say,\n",
        "                     lang = \"fr\",\n",
        "                    slow = False)\n",
        "  \n",
        "  gtts_object.save(\"F-audio.mp3\")\n",
        "  return Audio(\"F-audio.mp3\")"
      ],
      "metadata": {
        "id": "GDXtZ5gn-Juz"
      },
      "execution_count": null,
      "outputs": []
    },
    {
      "cell_type": "markdown",
      "source": [
        "###**5) Using input()**"
      ],
      "metadata": {
        "id": "hFiwN6dmC7ub"
      }
    },
    {
      "cell_type": "code",
      "source": [
        "name = input(\"What did you learn today? \")\n",
        "print(name)"
      ],
      "metadata": {
        "colab": {
          "base_uri": "https://localhost:8080/"
        },
        "id": "BJFhfUuFC7cq",
        "outputId": "5d610eec-9f8b-43bf-f390-3b544b58a9c2"
      },
      "execution_count": null,
      "outputs": [
        {
          "output_type": "stream",
          "name": "stdout",
          "text": [
            "What did you learn today? Coding\n",
            "Coding\n"
          ]
        }
      ]
    },
    {
      "cell_type": "markdown",
      "source": [
        "- In Python, input() is a built-in function that is used to get input from the user via the console. The input() function displays a prompt on the console, waits for the user to enter some text, and then returns the text entered by the user as a string.\n",
        "\n",
        "**-> 파이선에서, input()은 콘솔을 통해 사용자로부터 입력을 받는 데 사용되는 내장 함수이다. Input()함수는 콘솔에 프롬포트를 표시하고 사용자가 텍스트를 입력할 때까지 기다린 다음 사용자가 입력한 텍스트를 문자열로 반환한다.**\n",
        "\n",
        "\n",
        "- The syntax of the input() function is simple. It takes an optional string argument that is displayed as a prompt to the user, and then waits for the user to enter some text. \n",
        "**-> Input()함수의 구문은 간단하다. 사용자에게 프롬포트로 표시되는 선택적 문자열 인수를 사용한 다음 사용부가 일부 텍스트를 입력할 때까지 기다린다.**"
      ],
      "metadata": {
        "id": "z6mze9z8DGR-"
      }
    },
    {
      "cell_type": "markdown",
      "source": [
        "## **2. Coding basic**"
      ],
      "metadata": {
        "id": "PeKrt0Ep-_k5"
      }
    },
    {
      "cell_type": "markdown",
      "source": [
        "###**1) Variables (변수)**\n",
        "\n",
        "+ **A variable** is a named storage location that holds a value. : 값을 보유하는 명명된 저장 위치\n",
        "+ Variables can be used **to store values** such as numbers, strings, lists, or other data types. \n",
        "+ The value of a variable can change throughout the execution of a program.\n",
        ": 숫자, 문자열, 목록 또는 기타 데이터 유형과 같은 값을 저장하는 데 사용\n",
        "+ To declare a variable in Python, you need to assign a value to it using the **equal (=) sign.** : 변수를 선언하려면 등호(=)를 사용\n"
      ],
      "metadata": {
        "id": "XSH4x3mK_CcR"
      }
    },
    {
      "cell_type": "code",
      "source": [
        "x = 10\n",
        "y = \"Hello, class!\"\n",
        "z = [1, 2, 3]\n",
        "\n",
        "import pandas as pd\n",
        "url = \"https://github.com/MK316/Spring2023/raw/main/data/att_sample.csv\"\n",
        "data = pd.read_csv(url)\n",
        "\n",
        "#변수 이름은 마음대로 지정 가능"
      ],
      "metadata": {
        "id": "e4iGaV_p_VoT"
      },
      "execution_count": 12,
      "outputs": []
    },
    {
      "cell_type": "markdown",
      "source": [
        "###**2) Commenting '#'**\n",
        "- In Python, the # symbol is used to indicate a comment. A comment is a line of text in a code that is ignored by the Python interpreter and is used to provide explanations or notes for the reader of the code.: 코드를 읽는 사람에게 설명이나 메모를 제공하는 데 사용되는 코드의 텍스트 줄.\n",
        "\n",
        "- uncommenting shortcut : **Crtl + /** *이탤릭체 텍스트*"
      ],
      "metadata": {
        "id": "nUiqhd6q_cey"
      }
    },
    {
      "cell_type": "markdown",
      "source": [
        "###**3) Input types**\n",
        "\n",
        "* integer(정수): e.g., -3, 1, 0, 234, etc.\n",
        "* float(소수): e.g., -3.0, 1.2, 0, 3.141592653589793238, etc.\n",
        "* string(문자): (characters) \"1\", '0', \"3.29\", \"Mary\", \"euphoria\", 'My name is Jane.'\n",
        "\n",
        "_Note:_ double or single quotation marks denote **string** data. (Open and close should match.)"
      ],
      "metadata": {
        "id": "irsRAz7LD1kx"
      }
    },
    {
      "cell_type": "code",
      "source": [
        "# \"type()\"은 해당 변수의 유형이 어떻게 되는지 보여주는 함수이다."
      ],
      "metadata": {
        "id": "HxzdEJksEDHK"
      },
      "execution_count": null,
      "outputs": []
    },
    {
      "cell_type": "code",
      "source": [
        "type(x)\n",
        "type(y)\n",
        "type(z)"
      ],
      "metadata": {
        "colab": {
          "base_uri": "https://localhost:8080/"
        },
        "id": "SqyALYgM4iOZ",
        "outputId": "3939ff86-4355-482d-990f-f9500fec18b3"
      },
      "execution_count": 15,
      "outputs": [
        {
          "output_type": "execute_result",
          "data": {
            "text/plain": [
              "list"
            ]
          },
          "metadata": {},
          "execution_count": 15
        }
      ]
    },
    {
      "cell_type": "markdown",
      "source": [
        "###**4) Operators**\n",
        "-Symbols that perform operations on values and variables.\n",
        "They are used to perform arithmetic and logical operations, and they can also be used to manipulate and compare values. : 값과 변수에 대한 작업을 수행하는 기호.\n",
        "산술 및 논리 연산을 수행하는 데 사용."
      ],
      "metadata": {
        "id": "aCkwBmT4_xhD"
      }
    },
    {
      "cell_type": "markdown",
      "source": [
        "#### (1) Arithmetic Operators (계산)"
      ],
      "metadata": {
        "id": "sUMMjuBh_1UM"
      }
    },
    {
      "cell_type": "code",
      "source": [
        "x = 2; y = 5\n",
        "\n",
        "# 더하기\n",
        "a1 = x + y\n",
        "#빼기\n",
        "a2 = x - y\n",
        "#곱하기\n",
        "a3 = x * y\n",
        "#나누기\n",
        "a4 = x / y\n",
        "#제곱\n",
        "a5 = x ** y\n",
        "\n",
        "# **은 제곱을 의미"
      ],
      "metadata": {
        "id": "vikO7MugAC_9"
      },
      "execution_count": null,
      "outputs": []
    },
    {
      "cell_type": "code",
      "source": [
        "# This function adds two numbers\n",
        "def add(x, y):\n",
        "    return x + y\n",
        "\n",
        "# This function subtracts(빼기) two numbers\n",
        "def subtract(x, y):\n",
        "    return x - y\n",
        "\n",
        "# This function multiplies two numbers\n",
        "def multiply(x, y):\n",
        "    return x * y\n",
        "\n",
        "# This function divides two numbers\n",
        "def divide(x, y):\n",
        "    return x / y"
      ],
      "metadata": {
        "id": "lxBPakE5AY5O"
      },
      "execution_count": null,
      "outputs": []
    },
    {
      "cell_type": "markdown",
      "source": [
        "#### (2) More operators: <br>\n",
        "* Comparison Operators: ==, !=, <, >, <=, >= <br>\n",
        "* Assignment Operators: =, +=, -=, *=, /=, %= <br>\n",
        "* Logical Operators: and, or, not <br>\n",
        "* Identity Operators: is, is not <br>\n",
        "* Membership Operators: in, not in "
      ],
      "metadata": {
        "id": "3GWY2dJqA1fm"
      }
    },
    {
      "cell_type": "markdown",
      "source": [
        "## **3. Data types : number, string, list and dictionary**"
      ],
      "metadata": {
        "id": "8SZtXAO2EUh5"
      }
    },
    {
      "cell_type": "markdown",
      "source": [
        "#### (1) number and string"
      ],
      "metadata": {
        "id": "8dl_9Z19FulC"
      }
    },
    {
      "cell_type": "code",
      "source": [
        "a1 = 3 \n",
        "# a1 is integer\n",
        "a2 = 3.0\n",
        "# a2 is float\n",
        "a3 = \"3\"\n",
        "# a3 is string\n",
        "\n",
        "type(a1); type(a2); type(a3)\n",
        "# print(type(a1), type(a2), type(a3))"
      ],
      "metadata": {
        "id": "pOOE--j3Eshi"
      },
      "execution_count": null,
      "outputs": []
    },
    {
      "cell_type": "markdown",
      "source": [
        "#### (2) list and index"
      ],
      "metadata": {
        "id": "UqS3DlhMF1SQ"
      }
    },
    {
      "cell_type": "code",
      "source": [
        "a = [1, \"Mary\", 4, \"John\"]  # This is a list.\n",
        "print(type(a))"
      ],
      "metadata": {
        "colab": {
          "base_uri": "https://localhost:8080/"
        },
        "id": "hWFiyhI4F36w",
        "outputId": "e6bcf9bb-d973-46c7-8301-28f0c48014d1"
      },
      "execution_count": null,
      "outputs": [
        {
          "output_type": "stream",
          "name": "stdout",
          "text": [
            "<class 'list'>\n"
          ]
        }
      ]
    },
    {
      "cell_type": "code",
      "source": [
        "a[0]\n",
        "type(a[0])\n",
        "type(a[1])\n",
        "a[0] + a[2]\n",
        "#a[0] + a[1] -> int + str = error"
      ],
      "metadata": {
        "colab": {
          "base_uri": "https://localhost:8080/"
        },
        "id": "4797ikvlF_Uo",
        "outputId": "4afe60a4-8eb6-4fb6-8ca9-679d4f675f3d"
      },
      "execution_count": null,
      "outputs": [
        {
          "output_type": "execute_result",
          "data": {
            "text/plain": [
              "5"
            ]
          },
          "metadata": {},
          "execution_count": 15
        }
      ]
    },
    {
      "cell_type": "markdown",
      "source": [
        "- **index: Python index starts from '0'**\n",
        "\n",
        "0부터 숫자 세면 된다."
      ],
      "metadata": {
        "id": "fbwQmN9iGI1S"
      }
    },
    {
      "cell_type": "markdown",
      "source": [
        "##**4. Digital Life in 2023**\n",
        "\n",
        "- chat GPT\n",
        "- API (gTTS, chatGPT API, DALL-E:text to image, whisper:seepch to text)"
      ],
      "metadata": {
        "id": "34F0uW5AGubw"
      }
    },
    {
      "cell_type": "markdown",
      "source": [
        "###- **What is open AI?**\n",
        "\n",
        "OpenAI is a research organization dedicated to promoting and developing friendly AI in a responsible way. It was founded in 2015 by Elon Musk, Sam Altman, Greg Brockman, Ilya Sutskever, and Wojciech Zaremba with the goal of ensuring that artificial intelligence benefits humanity as a whole. OpenAI conducts research in a wide range of areas related to AI, including machine learning, robotics, and natural language processing, and also provides open-source tools and resources for the AI community. The organization aims to advance AI in a way that is safe, transparent, and beneficial for society, and to promote a future in which AI is aligned with human values and well-being.\n",
        "\n",
        "**-> OpenAI는 기계 학습, 로봇 공학, 자연어 처리 등 AI와 관련된 광범위한 분야의 연구를 수행하고 AI 커뮤니티를 위한 오픈 소스 도구 및 리소스를 제공합니다. 이 조직은 안전하고 투명하며 사회에 유익한 방식으로 AI를 발전시키고 AI가 인간의 가치와 웰빙에 부합하는 미래를 촉진하는 것을 목표로 합니다.**"
      ],
      "metadata": {
        "id": "lO83_NbdHEXa"
      }
    },
    {
      "cell_type": "markdown",
      "source": [
        "### - **What is chat GPT?**\n",
        "\n",
        "GPT, which is an abbreviated from Generative Pretrained Transformer, is a type of language model developed by OpenAI. GPT-3, the latest version of the model, is one of the largest and most powerful language models available today, with billions of parameters. ChatGPT is a variation of the GPT model that is fine-tuned for conversational AI. It's specifically trained to generate human-like responses to natural language inputs. By using a conversational AI model like ChatGPT, you can build chatbots, virtual assistants, and other applications that can understand and respond to human language in a natural way. ChatGPT is based on the transformer architecture, which has proven to be effective for many natural language processing tasks. The model has been trained on a large corpus of text data, allowing it to generate coherent and contextually relevant responses to a wide range of inputs.\n",
        "\n",
        "**-> Generative Pretrained Transformer의 약자로 OpenAI에서 개발한 일종의 언어 모델입니다. 오늘날 사용 가능한 가장 크고 강력한 언어 모델 중 하나이며 수십억 개의 매개변수가 있습니다. ChatGPT는 대화형 AI에 맞게 미세 조정된 GPT 모델의 변형입니다. 자연어 입력에 대해 인간과 유사한 응답을 생성하도록 특별히 훈련되었습니다. ChatGPT와 같은 대화형 AI 모델을 사용하면 자연스러운 방식으로 인간의 언어를 이해하고 응답할 수 있는 챗봇, 가상 비서 및 기타 애플리케이션을 구축할 수 있습니다. ChatGPT는 많은 자연어 처리 작업에 효과적인 것으로 입증된 변환기 아키텍처를 기반으로 합니다.**"
      ],
      "metadata": {
        "id": "DKXYaljMHbyS"
      }
    },
    {
      "cell_type": "markdown",
      "source": [
        "### - **What is DALL-E?**\n",
        "DALL-E is an artificial intelligence model developed by OpenAI that can generate unique images from textual descriptions. It's based on the transformer architecture, which is commonly used in natural language processing, and has been trained on a large dataset of images and textual descriptions. DALL-E is pronounced as 'dolly'.\n",
        "\n",
        "->**DALL-E는 텍스트 설명에서 고유한 이미지를 생성할 수 있는 OpenAI에서 개발한 인공 지능 모델입니다. 자연어 처리에서 일반적으로 사용되는 변환기 아키텍처를 기반으로 하며 이미지 및 텍스트 설명의 대규모 데이터 세트에 대해 교육을 받았습니다. DALL-E는 '돌리'로 발음됩니다.**"
      ],
      "metadata": {
        "id": "_LXoTI_jH3VZ"
      }
    },
    {
      "cell_type": "markdown",
      "source": [
        "##**5. Group Activity [video]**"
      ],
      "metadata": {
        "id": "T6lpReZ5JvHq"
      }
    },
    {
      "cell_type": "code",
      "source": [
        "#Setting\n",
        "from IPython.display import Image, Audio, YouTubeVideo"
      ],
      "metadata": {
        "id": "rUKkYj52J2Pq"
      },
      "execution_count": null,
      "outputs": []
    },
    {
      "cell_type": "markdown",
      "source": [
        "* Video ID is the string after \"v=\" in the example below:\n",
        "  https://www.youtube.com/watch?v=cPBchPGf168"
      ],
      "metadata": {
        "id": "G_fstGxuKCtX"
      }
    },
    {
      "cell_type": "code",
      "source": [
        "video = YouTubeVideo(\"bRlicxf8iJQ\", width=500)\n",
        "display(video)\n",
        "#width 넓이"
      ],
      "metadata": {
        "id": "ZvjdPwJ9J6w6"
      },
      "execution_count": null,
      "outputs": []
    },
    {
      "cell_type": "markdown",
      "source": [
        "##**6. Improting modules**\n",
        "1. **function, (class), module, package, and library**\n",
        "\n",
        "> (class) > functions\n",
        "\n",
        "\n",
        "2. Let's use the analogy of a toolbox: \n",
        "\n",
        "+ **a module** is a single tool, (e.g., random) \n",
        "+ **a package** is a toolbox containing multiple tools (e.g., gTTS)\n",
        "+ **a library** is a set of toolboxes designed for a specific purpose."
      ],
      "metadata": {
        "id": "tQOhF8A1LMJ0"
      }
    },
    {
      "cell_type": "markdown",
      "source": [
        "#### (1) gTTS package"
      ],
      "metadata": {
        "id": "DQgvLkpuMfkO"
      }
    },
    {
      "cell_type": "code",
      "source": [
        "!pip install gtts\n",
        "!pip install IPython\n",
        "from gtts import gTTS\n",
        "from IPython.display import Audio, display"
      ],
      "metadata": {
        "id": "C5n8Wu9iMeVX",
        "colab": {
          "base_uri": "https://localhost:8080/"
        },
        "outputId": "d318fa92-7e2e-4e04-b425-b856838c6b59"
      },
      "execution_count": 16,
      "outputs": [
        {
          "output_type": "stream",
          "name": "stdout",
          "text": [
            "Looking in indexes: https://pypi.org/simple, https://us-python.pkg.dev/colab-wheels/public/simple/\n",
            "Collecting gtts\n",
            "  Downloading gTTS-2.3.2-py3-none-any.whl (28 kB)\n",
            "Requirement already satisfied: requests<3,>=2.27 in /usr/local/lib/python3.10/dist-packages (from gtts) (2.27.1)\n",
            "Requirement already satisfied: click<8.2,>=7.1 in /usr/local/lib/python3.10/dist-packages (from gtts) (8.1.3)\n",
            "Requirement already satisfied: urllib3<1.27,>=1.21.1 in /usr/local/lib/python3.10/dist-packages (from requests<3,>=2.27->gtts) (1.26.15)\n",
            "Requirement already satisfied: certifi>=2017.4.17 in /usr/local/lib/python3.10/dist-packages (from requests<3,>=2.27->gtts) (2022.12.7)\n",
            "Requirement already satisfied: charset-normalizer~=2.0.0 in /usr/local/lib/python3.10/dist-packages (from requests<3,>=2.27->gtts) (2.0.12)\n",
            "Requirement already satisfied: idna<4,>=2.5 in /usr/local/lib/python3.10/dist-packages (from requests<3,>=2.27->gtts) (3.4)\n",
            "Installing collected packages: gtts\n",
            "Successfully installed gtts-2.3.2\n",
            "Looking in indexes: https://pypi.org/simple, https://us-python.pkg.dev/colab-wheels/public/simple/\n",
            "Requirement already satisfied: IPython in /usr/local/lib/python3.10/dist-packages (7.34.0)\n",
            "Requirement already satisfied: setuptools>=18.5 in /usr/local/lib/python3.10/dist-packages (from IPython) (67.7.2)\n",
            "Collecting jedi>=0.16 (from IPython)\n",
            "  Downloading jedi-0.18.2-py2.py3-none-any.whl (1.6 MB)\n",
            "\u001b[2K     \u001b[90m━━━━━━━━━━━━━━━━━━━━━━━━━━━━━━━━━━━━━━━━\u001b[0m \u001b[32m1.6/1.6 MB\u001b[0m \u001b[31m31.3 MB/s\u001b[0m eta \u001b[36m0:00:00\u001b[0m\n",
            "\u001b[?25hRequirement already satisfied: decorator in /usr/local/lib/python3.10/dist-packages (from IPython) (4.4.2)\n",
            "Requirement already satisfied: pickleshare in /usr/local/lib/python3.10/dist-packages (from IPython) (0.7.5)\n",
            "Requirement already satisfied: traitlets>=4.2 in /usr/local/lib/python3.10/dist-packages (from IPython) (5.7.1)\n",
            "Requirement already satisfied: prompt-toolkit!=3.0.0,!=3.0.1,<3.1.0,>=2.0.0 in /usr/local/lib/python3.10/dist-packages (from IPython) (3.0.38)\n",
            "Requirement already satisfied: pygments in /usr/local/lib/python3.10/dist-packages (from IPython) (2.14.0)\n",
            "Requirement already satisfied: backcall in /usr/local/lib/python3.10/dist-packages (from IPython) (0.2.0)\n",
            "Requirement already satisfied: matplotlib-inline in /usr/local/lib/python3.10/dist-packages (from IPython) (0.1.6)\n",
            "Requirement already satisfied: pexpect>4.3 in /usr/local/lib/python3.10/dist-packages (from IPython) (4.8.0)\n",
            "Requirement already satisfied: parso<0.9.0,>=0.8.0 in /usr/local/lib/python3.10/dist-packages (from jedi>=0.16->IPython) (0.8.3)\n",
            "Requirement already satisfied: ptyprocess>=0.5 in /usr/local/lib/python3.10/dist-packages (from pexpect>4.3->IPython) (0.7.0)\n",
            "Requirement already satisfied: wcwidth in /usr/local/lib/python3.10/dist-packages (from prompt-toolkit!=3.0.0,!=3.0.1,<3.1.0,>=2.0.0->IPython) (0.2.6)\n",
            "Installing collected packages: jedi\n",
            "Successfully installed jedi-0.18.2\n"
          ]
        }
      ]
    },
    {
      "cell_type": "code",
      "source": [
        "#@markdown etts(), ktts()\n",
        "def etts(text):\n",
        "  text_to_say = text\n",
        "\n",
        "  gtts_object = gTTS(text = text_to_say,\n",
        "                     lang = \"en\",\n",
        "                    slow = False)\n",
        "  \n",
        "  gtts_object.save(\"E-audio.mp3\")\n",
        "  return Audio(\"E-audio.mp3\")\n",
        "\n",
        "def ktts(text):\n",
        "  text_to_say = text\n",
        "\n",
        "  gtts_object = gTTS(text = text_to_say,\n",
        "                     lang = \"ko\",\n",
        "                    slow = False)\n",
        "  \n",
        "  gtts_object.save(\"K-audio.mp3\")\n",
        "  return Audio(\"K-audio.mp3\")"
      ],
      "metadata": {
        "cellView": "form",
        "id": "eR7VIrY3Mozp"
      },
      "execution_count": null,
      "outputs": []
    },
    {
      "cell_type": "markdown",
      "source": [
        "#### (2) **'random'** module"
      ],
      "metadata": {
        "id": "PXjobcMJMq6h"
      }
    },
    {
      "cell_type": "code",
      "source": [
        "import random\n",
        "\n",
        "random.randint(1, 10) #random.randint(x,y)는 함수이므로 문법대로 사용해야 함."
      ],
      "metadata": {
        "colab": {
          "base_uri": "https://localhost:8080/"
        },
        "id": "rBEqfdCfMxOw",
        "outputId": "1272c8d3-e97d-4692-d75d-bbe3487989ed"
      },
      "execution_count": null,
      "outputs": [
        {
          "output_type": "execute_result",
          "data": {
            "text/plain": [
              "5"
            ]
          },
          "metadata": {},
          "execution_count": 16
        }
      ]
    },
    {
      "cell_type": "code",
      "source": [
        "a1 = random.randint(1, 10)\n",
        "a1*10 "
      ],
      "metadata": {
        "colab": {
          "base_uri": "https://localhost:8080/"
        },
        "id": "2YwZ10WvM0NH",
        "outputId": "2908b6c6-bc21-4caa-82c3-e1fd6e1a182a"
      },
      "execution_count": null,
      "outputs": [
        {
          "output_type": "execute_result",
          "data": {
            "text/plain": [
              "10"
            ]
          },
          "metadata": {},
          "execution_count": 20
        }
      ]
    },
    {
      "cell_type": "markdown",
      "source": [
        "## **7. Python basics**\n",
        "\n",
        "+ Basic data types (strings, integers, lists, dictionaries)\n",
        "+ variables\n",
        "+ basic input/output functions (like print() and input())\n",
        "\n"
      ],
      "metadata": {
        "id": "w3oSz-A1NCt-"
      }
    },
    {
      "cell_type": "markdown",
      "source": [
        "#### (1) Basic data types **[strings]**"
      ],
      "metadata": {
        "id": "e3_ndQchNKGt"
      }
    },
    {
      "cell_type": "code",
      "source": [
        "a2 = \"Welcome\"\n",
        "a3 = \"2023\""
      ],
      "metadata": {
        "id": "kouGpjrdNOWi"
      },
      "execution_count": null,
      "outputs": []
    },
    {
      "cell_type": "code",
      "source": [
        "print(a2, a3)\n",
        "print(a2 + ',' + ' ' + a3 + '!')"
      ],
      "metadata": {
        "colab": {
          "base_uri": "https://localhost:8080/"
        },
        "id": "Jn6Gx5DeNWRR",
        "outputId": "51211081-b74f-4ce7-e177-a6b89b182059"
      },
      "execution_count": null,
      "outputs": [
        {
          "output_type": "stream",
          "name": "stdout",
          "text": [
            "Welcome 2023\n",
            "Welcome, 2023!\n"
          ]
        }
      ]
    },
    {
      "cell_type": "code",
      "source": [
        "a4 = \"화이팅\"\n",
        "print(a4*5, type(a4))"
      ],
      "metadata": {
        "colab": {
          "base_uri": "https://localhost:8080/"
        },
        "id": "OTws16Y2Nl9H",
        "outputId": "91f5e50d-112f-4014-e9b6-d3bdaf1027ac"
      },
      "execution_count": null,
      "outputs": [
        {
          "output_type": "stream",
          "name": "stdout",
          "text": [
            "화이팅화이팅화이팅화이팅화이팅 <class 'str'>\n"
          ]
        }
      ]
    },
    {
      "cell_type": "markdown",
      "source": [
        "#### (2) Basic data types **[integers, float]**"
      ],
      "metadata": {
        "id": "Q34ZmsprN0nG"
      }
    },
    {
      "cell_type": "code",
      "source": [
        "x1 = 45; y1 = 0.5\n",
        "print(x1 * y1)\n",
        "print(type(x1*y1))"
      ],
      "metadata": {
        "colab": {
          "base_uri": "https://localhost:8080/"
        },
        "id": "tBfETidPOD09",
        "outputId": "626db3b2-c413-426c-b5df-b97300e6057b"
      },
      "execution_count": null,
      "outputs": [
        {
          "output_type": "stream",
          "name": "stdout",
          "text": [
            "22.5\n",
            "<class 'float'>\n"
          ]
        }
      ]
    },
    {
      "cell_type": "markdown",
      "source": [
        "#### (3) Basic data types **[list datatype]**"
      ],
      "metadata": {
        "id": "0-ep3XNgN4Gs"
      }
    },
    {
      "cell_type": "code",
      "source": [
        "x2 = [1,2,3]\n",
        "x2"
      ],
      "metadata": {
        "colab": {
          "base_uri": "https://localhost:8080/"
        },
        "id": "HTaFXMm6OSa-",
        "outputId": "26f8cde6-95e2-49d3-b806-ee676b967bba"
      },
      "execution_count": null,
      "outputs": [
        {
          "output_type": "execute_result",
          "data": {
            "text/plain": [
              "[1, 2, 3]"
            ]
          },
          "metadata": {},
          "execution_count": 30
        }
      ]
    },
    {
      "cell_type": "code",
      "source": [
        "x3 = range(1,10)\n",
        "list(x3)"
      ],
      "metadata": {
        "colab": {
          "base_uri": "https://localhost:8080/"
        },
        "id": "XnJ9AYuOO013",
        "outputId": "508456d1-4e18-4ed4-a57b-db7b4b41b01e"
      },
      "execution_count": null,
      "outputs": [
        {
          "output_type": "execute_result",
          "data": {
            "text/plain": [
              "[1, 2, 3, 4, 5, 6, 7, 8, 9]"
            ]
          },
          "metadata": {},
          "execution_count": 31
        }
      ]
    },
    {
      "cell_type": "code",
      "source": [
        "x4 = \"John\"\n",
        "list(x4)"
      ],
      "metadata": {
        "colab": {
          "base_uri": "https://localhost:8080/"
        },
        "id": "4T2BYDdSO1WQ",
        "outputId": "7d038993-1b3e-41a8-a5a7-3f6b65928c0a"
      },
      "execution_count": null,
      "outputs": [
        {
          "output_type": "execute_result",
          "data": {
            "text/plain": [
              "['J', 'o', 'h', 'n']"
            ]
          },
          "metadata": {},
          "execution_count": 32
        }
      ]
    },
    {
      "cell_type": "markdown",
      "source": [
        "#### (4) Dictionary datatypet  **['key':'value']**\n",
        "\n",
        "In Python, a dictionary is a built-in data type that represents a collection of key-value pairs. Each key-value pair in a dictionary is separated by a colon (:), and each pair is separated by a comma. \n",
        "\n",
        "-> Python에서 사전은 'key' : 'value' 쌍의 모음을 나타내는 내장 데이터 유형. 사전의 각 'key' : 'value' 쌍은 콜론(:)으로 구분되며 각 쌍은 쉼표로 구분."
      ],
      "metadata": {
        "id": "XVpDBMdDN7id"
      }
    },
    {
      "cell_type": "code",
      "source": [
        "mydict = {\"API\":\"Application Programming Interface\", \"GPT\":\"Generative Pretrained Transformer\"}\n",
        "mydict['API']"
      ],
      "metadata": {
        "colab": {
          "base_uri": "https://localhost:8080/",
          "height": 35
        },
        "id": "CjerSF6lPRzw",
        "outputId": "cf01e747-5569-4231-ec3e-bbf4e5ed781f"
      },
      "execution_count": null,
      "outputs": [
        {
          "output_type": "execute_result",
          "data": {
            "text/plain": [
              "'Application Programming Interface'"
            ],
            "application/vnd.google.colaboratory.intrinsic+json": {
              "type": "string"
            }
          },
          "metadata": {},
          "execution_count": 33
        }
      ]
    },
    {
      "cell_type": "code",
      "source": [
        "mydict['GPT']"
      ],
      "metadata": {
        "colab": {
          "base_uri": "https://localhost:8080/",
          "height": 35
        },
        "id": "K0d4RMyYPU65",
        "outputId": "07ffbd73-6633-421c-af77-a70980133be7"
      },
      "execution_count": null,
      "outputs": [
        {
          "output_type": "execute_result",
          "data": {
            "text/plain": [
              "'Generative Pretrained Transformer'"
            ],
            "application/vnd.google.colaboratory.intrinsic+json": {
              "type": "string"
            }
          },
          "metadata": {},
          "execution_count": 34
        }
      ]
    },
    {
      "cell_type": "code",
      "source": [
        "class_size = {\"Class A\": 25, \"Class B\": 30, \"Class C\": 32}\n",
        "class_size['Class C']"
      ],
      "metadata": {
        "colab": {
          "base_uri": "https://localhost:8080/"
        },
        "id": "jL_Ra68-PV1I",
        "outputId": "f6cb3a9f-26fe-40f2-e61c-6625e8e06baf"
      },
      "execution_count": null,
      "outputs": [
        {
          "output_type": "execute_result",
          "data": {
            "text/plain": [
              "32"
            ]
          },
          "metadata": {},
          "execution_count": 35
        }
      ]
    },
    {
      "cell_type": "markdown",
      "source": [
        "#### (5) input/output funcitons"
      ],
      "metadata": {
        "id": "VQFB2KwfPcmo"
      }
    },
    {
      "cell_type": "markdown",
      "source": [
        "- **input 안에 문구 입력할 때 \"\" 사용하는 거 잊지 말기!**\n",
        "\n",
        "- **string인지 integer인지 확실하게 구별해주기**\n",
        "\n",
        "- **type함수 이용해서 바꿔주면 된다!**"
      ],
      "metadata": {
        "id": "RHJOuvGcSoNL"
      }
    },
    {
      "cell_type": "code",
      "source": [
        "# In Python, input() is a built-in function that allows you to get user input from the keyboard. \n",
        "yournumber = input() \n",
        "yournumber"
      ],
      "metadata": {
        "colab": {
          "base_uri": "https://localhost:8080/",
          "height": 54
        },
        "id": "lIgrjQehPiGc",
        "outputId": "af1495c9-8444-48aa-edeb-3533e2ad3855"
      },
      "execution_count": 19,
      "outputs": [
        {
          "name": "stdout",
          "output_type": "stream",
          "text": [
            "4\n"
          ]
        },
        {
          "output_type": "execute_result",
          "data": {
            "text/plain": [
              "'4'"
            ],
            "application/vnd.google.colaboratory.intrinsic+json": {
              "type": "string"
            }
          },
          "metadata": {},
          "execution_count": 19
        }
      ]
    },
    {
      "cell_type": "code",
      "source": [
        "yournumber = int(yournumber) # changing the type of the value to integer\n",
        "type(yournumber)"
      ],
      "metadata": {
        "colab": {
          "base_uri": "https://localhost:8080/"
        },
        "id": "WEBJ8NKVPrh-",
        "outputId": "447c5cdc-7155-46ef-8caf-c11be7f0317d"
      },
      "execution_count": 18,
      "outputs": [
        {
          "output_type": "execute_result",
          "data": {
            "text/plain": [
              "int"
            ]
          },
          "metadata": {},
          "execution_count": 18
        }
      ]
    },
    {
      "cell_type": "code",
      "source": [
        "# print() 함수 배우기\n",
        "a2 = \"화이팅!\"  # a1: variable(변수)\n",
        "\n",
        "print(\"대한민국\")\n",
        "print(a2)\n",
        "print(a2*10)\n",
        "print(\"화이팅 3번 합시다: \", a2*3)\n",
        "a2"
      ],
      "metadata": {
        "colab": {
          "base_uri": "https://localhost:8080/",
          "height": 109
        },
        "id": "pDfkpLx9P7P8",
        "outputId": "b79aa360-aa54-40db-ceef-d6c99e87d124"
      },
      "execution_count": null,
      "outputs": [
        {
          "output_type": "stream",
          "name": "stdout",
          "text": [
            "대한민국\n",
            "화이팅!\n",
            "화이팅!화이팅!화이팅!화이팅!화이팅!화이팅!화이팅!화이팅!화이팅!화이팅!\n",
            "화이팅 3번 합시다:  화이팅!화이팅!화이팅!\n"
          ]
        },
        {
          "output_type": "execute_result",
          "data": {
            "text/plain": [
              "'화이팅!'"
            ],
            "application/vnd.google.colaboratory.intrinsic+json": {
              "type": "string"
            }
          },
          "metadata": {},
          "execution_count": 40
        }
      ]
    },
    {
      "cell_type": "code",
      "source": [
        "print(a2)\n",
        "print(\"=\"*30)\n",
        "a1=random.randint(1,10)\n",
        "print(\"Random integer between 1 and 10:\", a1)"
      ],
      "metadata": {
        "colab": {
          "base_uri": "https://localhost:8080/"
        },
        "id": "nUizIPQsQESa",
        "outputId": "d69bbaf3-aaab-45a8-eabb-b228c825b487"
      },
      "execution_count": null,
      "outputs": [
        {
          "output_type": "stream",
          "name": "stdout",
          "text": [
            "화이팅!\n",
            "==============================\n",
            "Random integer between 1 and 10: 9\n"
          ]
        }
      ]
    },
    {
      "cell_type": "code",
      "source": [
        "#Quiz\n",
        "day = input('How many days?')\n",
        "num_day = int(day) #input 거쳐서 나오는 결과값은 'string'임으로 숫자계산이 필요할 때에는 type을 integer로 바꾸는 작업을 항상해야함!\n",
        "hours = 24\n",
        "ans=num_day*hours\n",
        "print(\"The total hours passed since Mary met Jhon are\", ans, \"hours.\")"
      ],
      "metadata": {
        "colab": {
          "base_uri": "https://localhost:8080/"
        },
        "id": "zCKaYlfgQIxy",
        "outputId": "3f84dc87-7331-4ec5-ed1f-2f6b7541b3ac"
      },
      "execution_count": null,
      "outputs": [
        {
          "output_type": "stream",
          "name": "stdout",
          "text": [
            "How many days?1\n",
            "The total hours passed since Mary met Jhon are 24 hours.\n"
          ]
        }
      ]
    },
    {
      "cell_type": "markdown",
      "source": [
        "#### (6) String manipulation: **.strip(), and .lower()**"
      ],
      "metadata": {
        "id": "hwu-Drf2S_UL"
      }
    },
    {
      "cell_type": "markdown",
      "source": [
        "#### data.strip()\n",
        "- In Python, strip() is a built-in string method that returns a copy of the string with leading and trailing characters removed.\n",
        "- By default, strip() removes whitespace characters such as spaces, tabs, and newlines from the beginning and end of the string.\n",
        "\n",
        "**-> 기본적으로 strip()은 문자열의 시작과 끝에서 공백, 탭 및 줄 바꿈과 같은 공백 문자를 제거.**"
      ],
      "metadata": {
        "id": "sNyiocldTKcl"
      }
    },
    {
      "cell_type": "code",
      "source": [
        "w1 = \" Mary is friendly. \"\n",
        "w1.strip()\n",
        "\n",
        "# .뒤에 있는 공백 사라짐"
      ],
      "metadata": {
        "colab": {
          "base_uri": "https://localhost:8080/",
          "height": 35
        },
        "id": "xUf_1LVkTZSp",
        "outputId": "db71b3b7-7302-4a23-95b6-03c57aee1ddf"
      },
      "execution_count": null,
      "outputs": [
        {
          "output_type": "execute_result",
          "data": {
            "text/plain": [
              "'Mary is friendly.'"
            ],
            "application/vnd.google.colaboratory.intrinsic+json": {
              "type": "string"
            }
          },
          "metadata": {},
          "execution_count": 70
        }
      ]
    },
    {
      "cell_type": "markdown",
      "source": [
        "#### data.split()\n",
        "\n",
        "-> ()안에 있는 기준으로 나뉨"
      ],
      "metadata": {
        "id": "RwIwLQLvTjC5"
      }
    },
    {
      "cell_type": "code",
      "source": [
        "w1 = \"Mary is friendly.\"\n",
        "w1.split()"
      ],
      "metadata": {
        "colab": {
          "base_uri": "https://localhost:8080/"
        },
        "id": "KQ9GGGcmTgZ5",
        "outputId": "64e9e065-5212-4352-85a7-3c523d0ce2c6"
      },
      "execution_count": 25,
      "outputs": [
        {
          "output_type": "execute_result",
          "data": {
            "text/plain": [
              "['Mary', 'is', 'friendly.']"
            ]
          },
          "metadata": {},
          "execution_count": 25
        }
      ]
    },
    {
      "cell_type": "code",
      "source": [
        "w2 = \"out-of-date\"\n",
        "w2.split('-')"
      ],
      "metadata": {
        "colab": {
          "base_uri": "https://localhost:8080/"
        },
        "id": "wt5uPMvHTnae",
        "outputId": "7b61765d-3ffa-4e64-a254-6efc620e780a"
      },
      "execution_count": 26,
      "outputs": [
        {
          "output_type": "execute_result",
          "data": {
            "text/plain": [
              "['out', 'of', 'date']"
            ]
          },
          "metadata": {},
          "execution_count": 26
        }
      ]
    },
    {
      "cell_type": "code",
      "source": [
        "w1 = \"Mary\"\n",
        "w2 = \"is\"\n",
        "w3 = \"friendly\""
      ],
      "metadata": {
        "id": "QyO_iqvdTphW"
      },
      "execution_count": 27,
      "outputs": []
    },
    {
      "cell_type": "code",
      "source": [
        "wordlist = [w1, w2, w3]\n",
        "wordlist"
      ],
      "metadata": {
        "colab": {
          "base_uri": "https://localhost:8080/"
        },
        "id": "sLnHYSsHTqnW",
        "outputId": "4bacd72f-ce73-4bb7-d5df-3051ec187d68"
      },
      "execution_count": 28,
      "outputs": [
        {
          "output_type": "execute_result",
          "data": {
            "text/plain": [
              "['Mary', 'is', 'friendly']"
            ]
          },
          "metadata": {},
          "execution_count": 28
        }
      ]
    },
    {
      "cell_type": "code",
      "source": [
        "w2 = \"out-of-date\"\n",
        "mysplit = w2.split('-')\n",
        "mysplit"
      ],
      "metadata": {
        "colab": {
          "base_uri": "https://localhost:8080/"
        },
        "id": "MeNORI8zTsMO",
        "outputId": "48f009b1-5642-4d47-a259-3cbec7f996cc"
      },
      "execution_count": 29,
      "outputs": [
        {
          "output_type": "execute_result",
          "data": {
            "text/plain": [
              "['out', 'of', 'date']"
            ]
          },
          "metadata": {},
          "execution_count": 29
        }
      ]
    },
    {
      "cell_type": "markdown",
      "source": [
        "#### .join()"
      ],
      "metadata": {
        "id": "sTLKKtL2BrKs"
      }
    },
    {
      "cell_type": "code",
      "source": [
        "' '.join(wordlist)\n",
        "'-'.join(wordlist)\n",
        "' '.join(mysplit)"
      ],
      "metadata": {
        "colab": {
          "base_uri": "https://localhost:8080/",
          "height": 35
        },
        "id": "xyGE-9kBBvmV",
        "outputId": "3653bd88-6aca-4c26-8f41-7feae9e04e29"
      },
      "execution_count": 30,
      "outputs": [
        {
          "output_type": "execute_result",
          "data": {
            "text/plain": [
              "'out of date'"
            ],
            "application/vnd.google.colaboratory.intrinsic+json": {
              "type": "string"
            }
          },
          "metadata": {},
          "execution_count": 30
        }
      ]
    },
    {
      "cell_type": "markdown",
      "source": [
        "#### data.lower(), data.upper()"
      ],
      "metadata": {
        "id": "Fil3ESxBT4T6"
      }
    },
    {
      "cell_type": "code",
      "source": [
        "#소문자\n",
        "w1.lower()"
      ],
      "metadata": {
        "id": "8Nsz76_8T3w-"
      },
      "execution_count": null,
      "outputs": []
    },
    {
      "cell_type": "code",
      "source": [
        "#대문자\n",
        "w1.upper()"
      ],
      "metadata": {
        "colab": {
          "base_uri": "https://localhost:8080/",
          "height": 35
        },
        "id": "GPyJQjxGT9pN",
        "outputId": "8de266e9-b444-4b00-af53-919087e5b0e8"
      },
      "execution_count": null,
      "outputs": [
        {
          "output_type": "execute_result",
          "data": {
            "text/plain": [
              "'MARY'"
            ],
            "application/vnd.google.colaboratory.intrinsic+json": {
              "type": "string"
            }
          },
          "metadata": {},
          "execution_count": 79
        }
      ]
    },
    {
      "cell_type": "markdown",
      "source": [
        "#### string index"
      ],
      "metadata": {
        "id": "q8Ajux0bUkSl"
      }
    },
    {
      "cell_type": "code",
      "source": [
        "# 파이썬은 0부터 세는 거 잊지 말기!\n",
        "\n",
        "len(w1) #number of string\n",
        "w1[0] #1st string\n",
        "w1[-1] #뒤에서 부터. 뒤에서 셀 때에는 1부터 셈\n",
        "w1[0:] #처음부터 끝까지\n",
        "w1[:] # 전체\n",
        "w1[1:3]"
      ],
      "metadata": {
        "colab": {
          "base_uri": "https://localhost:8080/",
          "height": 35
        },
        "id": "Mhhv1-1pUnId",
        "outputId": "3198101d-3e8e-4ab1-de59-90599644ff6e"
      },
      "execution_count": null,
      "outputs": [
        {
          "output_type": "execute_result",
          "data": {
            "text/plain": [
              "'ar'"
            ],
            "application/vnd.google.colaboratory.intrinsic+json": {
              "type": "string"
            }
          },
          "metadata": {},
          "execution_count": 80
        }
      ]
    },
    {
      "cell_type": "code",
      "source": [
        "w = \"mary\"\n",
        "ini = w[0].upper()\n",
        "w = ini + w[1:]\n",
        "print(w)"
      ],
      "metadata": {
        "colab": {
          "base_uri": "https://localhost:8080/"
        },
        "id": "EcrP4hY_UwIt",
        "outputId": "afbd0e22-4537-4ea7-dc1f-51c4f3a7a635"
      },
      "execution_count": null,
      "outputs": [
        {
          "output_type": "stream",
          "name": "stdout",
          "text": [
            "Mary\n"
          ]
        }
      ]
    },
    {
      "cell_type": "code",
      "source": [
        "#Quiz : Convert a statment to a yes-no question (Mary is smart. Tom is smiling.)\n",
        "\n",
        "fir=\"Mary is smart\"\n",
        "fir.split()\n",
        "cap = fir[5].upper() + \"s\"\n",
        "\n",
        "print(cap, wordlist[0], wordlist[2], \"?\")"
      ],
      "metadata": {
        "colab": {
          "base_uri": "https://localhost:8080/"
        },
        "id": "qrHwDmXMVSPZ",
        "outputId": "3c322d00-6dab-48b8-cbc0-8066bff3a236"
      },
      "execution_count": null,
      "outputs": [
        {
          "output_type": "stream",
          "name": "stdout",
          "text": [
            "Is Mary friendly ?\n",
            "Is Mary friendly\n"
          ]
        }
      ]
    },
    {
      "cell_type": "code",
      "source": [
        "sec = \"Tom is smiling\"\n",
        "t='Tom'\n",
        "i='is'\n",
        "s='smiling'\n",
        "capp= i[0].upper() + \"s\"\n",
        "\n",
        "print(capp, t, s, \"?\")"
      ],
      "metadata": {
        "colab": {
          "base_uri": "https://localhost:8080/"
        },
        "id": "5xc5YGd_XKIe",
        "outputId": "7bfa2723-c8f9-4601-b8d5-36d924637cbb"
      },
      "execution_count": null,
      "outputs": [
        {
          "output_type": "stream",
          "name": "stdout",
          "text": [
            "Is Tom smiling ?\n"
          ]
        }
      ]
    },
    {
      "cell_type": "markdown",
      "source": [
        "#### (7) Control structures: **for loops**"
      ],
      "metadata": {
        "id": "jm75lM15YYxA"
      }
    },
    {
      "cell_type": "code",
      "source": [
        "#If you want the same process (square of x) for 1, 2, 3, 4, 5\n",
        "\n",
        "# Define a list of numbers\n",
        "numbers = [1, 2, 3, 4, 5]\n",
        "\n",
        "# Use a for loop to iterate through the list\n",
        "for num in numbers:\n",
        "    # Print the square of each number\n",
        "    print(num ** 2)"
      ],
      "metadata": {
        "colab": {
          "base_uri": "https://localhost:8080/"
        },
        "id": "2Y4XHYEeYYmk",
        "outputId": "d0aeaa01-dfa3-480d-edc6-2227c66b1142"
      },
      "execution_count": null,
      "outputs": [
        {
          "output_type": "stream",
          "name": "stdout",
          "text": [
            "1\n",
            "4\n",
            "9\n",
            "16\n",
            "25\n"
          ]
        }
      ]
    },
    {
      "cell_type": "markdown",
      "source": [
        "#### data.append()"
      ],
      "metadata": {
        "id": "_fW3t6QyZcFv"
      }
    },
    {
      "cell_type": "code",
      "source": [
        "#data로 지정해놓은 곳에 append()결과값을 넣는 것\n",
        "\n",
        "numbers = [1,2,3,4,5]\n",
        "squared = []\n",
        "\n",
        "# 'i'는 그냥 변수. for 뒤는 변수를 입력하는 자리로 아무거나 적어도 상관없음.\n",
        "for i in numbers:\n",
        "  s = i ** 2\n",
        "  squared.append(s)\n",
        "\n",
        "print(squared)"
      ],
      "metadata": {
        "colab": {
          "base_uri": "https://localhost:8080/"
        },
        "id": "9ncoIqwXZWjG",
        "outputId": "455e2060-60a8-498c-dc48-e0ac74723a15"
      },
      "execution_count": 31,
      "outputs": [
        {
          "output_type": "stream",
          "name": "stdout",
          "text": [
            "[1, 4, 9, 16, 25]\n"
          ]
        }
      ]
    },
    {
      "cell_type": "markdown",
      "source": [
        "**Quiz**\n",
        "1. Ask how many to input\n",
        "2. User input name\n",
        "3. Using for loop, append the attendance list"
      ],
      "metadata": {
        "id": "YIfsuuyoZ1ws"
      }
    },
    {
      "cell_type": "code",
      "source": [
        "number = input(\"How many names?\")\n",
        "number = int(number)\n",
        "#input 함수를 사용하여 \"How many names?\"를 물어본 후 number 변수를 string이 아닌 integer로 바꿔주는 작업\n",
        "\n",
        "at=[]\n",
        "#at이라는 변수를 사용하여 []를 지정해줌\n",
        "\n",
        "for n in range(0,number) :\n",
        "  names = input()\n",
        "  at.append(names)\n",
        "\n",
        "#range를 쓰는 이유는 input 결과값이 어떻게 될지 모르기 때문.\n",
        "#for in 함수를 이용하여 range 즉, 범위를 처음부터 number 사용자가 input에 입력한 값을 지정.\n",
        "#names=input을 통해 이름을 적게 함.\n",
        "\n",
        "#그 후 data.append()를 사용하여 at에 지정해두었던 []안에 for in 결과값이 들어가도록 설정\n",
        "print(at)"
      ],
      "metadata": {
        "colab": {
          "base_uri": "https://localhost:8080/"
        },
        "id": "YG7LWr68Zy-v",
        "outputId": "9c9da550-eb39-40c3-c58c-9f192ce20df5"
      },
      "execution_count": null,
      "outputs": [
        {
          "output_type": "stream",
          "name": "stdout",
          "text": [
            "How many names?5\n",
            "ㄱ\n",
            "ㄴ\n",
            "ㄷ\n",
            "ㄹ\n",
            "ㅁ\n",
            "['ㄱ', 'ㄴ', 'ㄷ', 'ㄹ', 'ㅁ']\n"
          ]
        }
      ]
    },
    {
      "cell_type": "code",
      "source": [
        "len(at)"
      ],
      "metadata": {
        "colab": {
          "base_uri": "https://localhost:8080/"
        },
        "id": "xfFKfbdjb6ir",
        "outputId": "a047bfff-917c-4810-dfcd-8aa3e209a580"
      },
      "execution_count": null,
      "outputs": [
        {
          "output_type": "execute_result",
          "data": {
            "text/plain": [
              "5"
            ]
          },
          "metadata": {},
          "execution_count": 110
        }
      ]
    },
    {
      "cell_type": "markdown",
      "source": [
        "## **8. Learn coding to handel string data**"
      ],
      "metadata": {
        "id": "UT_QxI-ieWGw"
      }
    },
    {
      "cell_type": "markdown",
      "source": [
        "###**1) 여러 줄인 문자열을 변수에 대입하고 싶을 때**\n",
        "-> **\\n 사용**"
      ],
      "metadata": {
        "id": "4prr2C2leiEU"
      }
    },
    {
      "cell_type": "code",
      "source": [
        "\"I studied at GNU library. I'm so tired.\"\n",
        "#줄 변경\n",
        "\"I studied at GNU library\\nI'm so tired.\"\n",
        "#왜 안 되지???\n",
        "\"I studied at GNU library ''' I am so tired.\"\n",
        "\n",
        "multiline=\"I studied at GNU library\\nI'm so tired.\"\n",
        "print(multiline)\n",
        "\n",
        "#변수 지정하고 출력하기!!!"
      ],
      "metadata": {
        "colab": {
          "base_uri": "https://localhost:8080/"
        },
        "id": "GXHstCkvNlH-",
        "outputId": "a2795d36-9aa3-48c4-9bc3-164e5d84e7aa"
      },
      "execution_count": 22,
      "outputs": [
        {
          "output_type": "stream",
          "name": "stdout",
          "text": [
            "I studied at GNU library\n",
            "I'm so tired.\n"
          ]
        }
      ]
    },
    {
      "cell_type": "markdown",
      "source": [
        "-> **''' or \"\"\" 사용**"
      ],
      "metadata": {
        "id": "T1IvBEYGe1m8"
      }
    },
    {
      "cell_type": "code",
      "source": [
        "multiline='''\n",
        "I am a student.\n",
        "I am sopomere.\n",
        "'''\n",
        "print(multiline)"
      ],
      "metadata": {
        "colab": {
          "base_uri": "https://localhost:8080/"
        },
        "id": "RajYfe9WOmVO",
        "outputId": "d2f6de6f-908c-4a29-85d8-2b4522143d80"
      },
      "execution_count": null,
      "outputs": [
        {
          "output_type": "stream",
          "name": "stdout",
          "text": [
            "\n",
            "I am a student.\n",
            "I am sopomere.\n",
            "\n"
          ]
        }
      ]
    },
    {
      "cell_type": "code",
      "source": [
        "mutiline=\"\"\"\n",
        "I want to know that.\n",
        "That is Coding.\n",
        "\"\"\"\n",
        "print(multiline)"
      ],
      "metadata": {
        "colab": {
          "base_uri": "https://localhost:8080/"
        },
        "id": "BvDG-n1yPJgE",
        "outputId": "f0261a95-40b7-4759-a472-b97508dfe304"
      },
      "execution_count": null,
      "outputs": [
        {
          "output_type": "stream",
          "name": "stdout",
          "text": [
            "\n",
            "I am a student.\n",
            "I am sopomere.\n",
            "\n"
          ]
        }
      ]
    },
    {
      "cell_type": "markdown",
      "source": [
        "####2) 이스케이프 코드란?"
      ],
      "metadata": {
        "id": "c95C3xAGfDSB"
      }
    },
    {
      "cell_type": "markdown",
      "source": [
        "**\\** = 백슬러시를 의미\n",
        "\n",
        "**\\n** : 문자열 안에서 줄을 바꿀 때 사용 (자주사용)\n",
        "\n",
        "**\\t** : 문자열 사이에 탭 간격을 줄 때 사용 (자주사용)\n",
        "\n",
        "**\\\\** :문자 \\를 그대로 표현할 때 사용\n",
        "\n",
        "**\\'**: 작은따옴표(')를 그대로 표현할 때 사용 (자주사용)\n",
        "\n",
        "**\\\"**:\t큰따옴표(\")를 그대로 표현할 때 사용 (자주사용)\n",
        "\n",
        "**\\r** : 캐리지 리턴(줄 바꿈 문자, 현재 커서를 가장 앞으로 이동)\n",
        "\n",
        "**\\f** :\t폼 피드(줄 바꿈 문자, 현재 커서를 다음 줄로 이동)\n",
        "\n",
        "**\\a** :\t벨 소리(출력할 때 PC 스피커에서 '삑' 소리가 난다)\n",
        "\n",
        "**\\b** :\t백 스페이스\n",
        "\n",
        "**\\000** :\t널 문자"
      ],
      "metadata": {
        "id": "YDCt2UgXfGOx"
      }
    },
    {
      "cell_type": "markdown",
      "source": [
        "####3) 문자열 곱하기 응용"
      ],
      "metadata": {
        "id": "mgzqm96cfvQg"
      }
    },
    {
      "cell_type": "code",
      "source": [
        "print(\"=\" * 50)\n",
        "print(\"My Program\")\n",
        "print(\"=\" * 50)"
      ],
      "metadata": {
        "id": "cXFcDYF0Pd0u",
        "outputId": "1246fa27-7caf-4f80-a591-cabd773d34ae",
        "colab": {
          "base_uri": "https://localhost:8080/"
        }
      },
      "execution_count": null,
      "outputs": [
        {
          "output_type": "stream",
          "name": "stdout",
          "text": [
            "==================================================\n",
            "My Program\n",
            "==================================================\n"
          ]
        }
      ]
    },
    {
      "cell_type": "code",
      "source": [
        "#길이 구하는 함수 len()\n",
        "a = \"Life is too short\"\n",
        "len(a)"
      ],
      "metadata": {
        "id": "uMux_IxLf44K",
        "outputId": "e6bb9cb2-c4b0-4ce5-b841-15e22c751e57",
        "colab": {
          "base_uri": "https://localhost:8080/"
        }
      },
      "execution_count": null,
      "outputs": [
        {
          "output_type": "execute_result",
          "data": {
            "text/plain": [
              "17"
            ]
          },
          "metadata": {},
          "execution_count": 2
        }
      ]
    },
    {
      "cell_type": "markdown",
      "source": [
        "####4) 슬라이싱으로 문자열 나누기"
      ],
      "metadata": {
        "id": "vSiUCVnOgAOR"
      }
    },
    {
      "cell_type": "code",
      "source": [
        "a = \"20010331Rainy\"\n",
        "year = a[:4]\n",
        "day = a[4:8]\n",
        "weather = a[8:]\n",
        "\n",
        "print(year, day, weather)"
      ],
      "metadata": {
        "colab": {
          "base_uri": "https://localhost:8080/"
        },
        "id": "HSwvXYCQxMx4",
        "outputId": "1fba14c3-c6ae-4040-c542-1e7f724947be"
      },
      "execution_count": null,
      "outputs": [
        {
          "output_type": "stream",
          "name": "stdout",
          "text": [
            "2001 0331 Rainy\n"
          ]
        }
      ]
    },
    {
      "cell_type": "markdown",
      "source": [
        "####5) \"Pithon\"을 \"Python\"으로 바꿀려면?"
      ],
      "metadata": {
        "id": "Cv0XzTh7xdnD"
      }
    },
    {
      "cell_type": "code",
      "source": [
        "a=\"pithon\"\n",
        "print(a[0]+ \"y\" + a[2:])"
      ],
      "metadata": {
        "colab": {
          "base_uri": "https://localhost:8080/"
        },
        "id": "COuu1xiCxlTJ",
        "outputId": "3bb548fc-dfd9-4fc7-baec-806803ca0f25"
      },
      "execution_count": null,
      "outputs": [
        {
          "output_type": "stream",
          "name": "stdout",
          "text": [
            "python\n"
          ]
        }
      ]
    },
    {
      "cell_type": "markdown",
      "source": [
        "####6)문자열 포매팅 따라하기 [숫자]"
      ],
      "metadata": {
        "id": "FvagdbZkx5uT"
      }
    },
    {
      "cell_type": "code",
      "source": [
        "\"I eat %d apples.\" % 3"
      ],
      "metadata": {
        "colab": {
          "base_uri": "https://localhost:8080/",
          "height": 35
        },
        "id": "7alGcSH-yCMj",
        "outputId": "b8df3f67-fbb9-48f4-a34c-2c1e550e59df"
      },
      "execution_count": null,
      "outputs": [
        {
          "output_type": "execute_result",
          "data": {
            "text/plain": [
              "'I eat 3 apples.'"
            ],
            "application/vnd.google.colaboratory.intrinsic+json": {
              "type": "string"
            }
          },
          "metadata": {},
          "execution_count": 6
        }
      ]
    },
    {
      "cell_type": "code",
      "source": [
        "number = 3\n",
        "\"I eat %d apples.\" % number\n"
      ],
      "metadata": {
        "colab": {
          "base_uri": "https://localhost:8080/",
          "height": 35
        },
        "id": "736fHklqyOWc",
        "outputId": "04bbd988-e6c6-4d1d-a21a-b2250a943115"
      },
      "execution_count": null,
      "outputs": [
        {
          "output_type": "execute_result",
          "data": {
            "text/plain": [
              "'I eat 3 apples.'"
            ],
            "application/vnd.google.colaboratory.intrinsic+json": {
              "type": "string"
            }
          },
          "metadata": {},
          "execution_count": 8
        }
      ]
    },
    {
      "cell_type": "markdown",
      "source": [
        "#### 7)문자열 포매팅 따라하기 [문자]"
      ],
      "metadata": {
        "id": "4FhKrm5-yAAC"
      }
    },
    {
      "cell_type": "code",
      "source": [
        "\"I eat %s apples.\" % \"five\""
      ],
      "metadata": {
        "colab": {
          "base_uri": "https://localhost:8080/",
          "height": 35
        },
        "id": "QdgevsxjyHoz",
        "outputId": "8e702592-3dbd-42e2-9b2f-3789811d2677"
      },
      "execution_count": null,
      "outputs": [
        {
          "output_type": "execute_result",
          "data": {
            "text/plain": [
              "'I eat five apples.'"
            ],
            "application/vnd.google.colaboratory.intrinsic+json": {
              "type": "string"
            }
          },
          "metadata": {},
          "execution_count": 7
        }
      ]
    },
    {
      "cell_type": "code",
      "source": [
        "number = 10\n",
        "day = \"three\"\n",
        "\"I ate %d apples. so I was sick for %s days.\" % (number, day)"
      ],
      "metadata": {
        "colab": {
          "base_uri": "https://localhost:8080/",
          "height": 35
        },
        "id": "gQUApBDxySp8",
        "outputId": "2df5c85e-4734-4fae-aaa5-b804e9df606e"
      },
      "execution_count": null,
      "outputs": [
        {
          "output_type": "execute_result",
          "data": {
            "text/plain": [
              "'I ate 10 apples. so I was sick for three days.'"
            ],
            "application/vnd.google.colaboratory.intrinsic+json": {
              "type": "string"
            }
          },
          "metadata": {},
          "execution_count": 9
        }
      ]
    },
    {
      "cell_type": "code",
      "source": [
        "age = input(\"Q: How old are you? \")\n",
        "print(\"A: You typed you're %s years old.\" % age)\n",
        "\n",
        "#input에 입력된 숫자는 'stirng'으로 지정 되어 있기 때문에 %s를 써야함"
      ],
      "metadata": {
        "colab": {
          "base_uri": "https://localhost:8080/"
        },
        "id": "gLBtoPR60YpM",
        "outputId": "00778783-4e36-4e6f-e25b-c203c5afd5c6"
      },
      "execution_count": null,
      "outputs": [
        {
          "output_type": "stream",
          "name": "stdout",
          "text": [
            "Q: How old are you? 5\n",
            "A: You typed you're 5 years old.\n"
          ]
        }
      ]
    }
  ]
}